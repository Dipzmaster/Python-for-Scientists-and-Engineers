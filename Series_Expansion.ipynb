{
 "cells": [
  {
   "cell_type": "code",
   "execution_count": 1,
   "id": "b3457a80",
   "metadata": {},
   "outputs": [],
   "source": [
    "#Taylor series"
   ]
  },
  {
   "cell_type": "code",
   "execution_count": 2,
   "id": "39f76f7e",
   "metadata": {},
   "outputs": [
    {
     "name": "stdout",
     "output_type": "stream",
     "text": [
      "Taylor series for sin(x): x - x**3/6 + x**5/120 + O(x**6)\n",
      "Taylor series for cos(x): 1 - x**2/2 + x**4/24 + O(x**6)\n"
     ]
    }
   ],
   "source": [
    "from sympy import *\n",
    "\n",
    "x = Symbol('x')\n",
    "\n",
    "ts_sin = series(sin(x), x)      # using first syntax\n",
    "ts_cos = cos(x).series(x)       # using second syntax\n",
    "print(\"Taylor series for sin(x):\", ts_sin)\n",
    "print(\"Taylor series for cos(x):\", ts_cos)"
   ]
  },
  {
   "cell_type": "code",
   "execution_count": 3,
   "id": "b191ecb4",
   "metadata": {},
   "outputs": [
    {
     "name": "stdout",
     "output_type": "stream",
     "text": [
      "Taylor series for sin(x): x**5/120 - x**3/6 + x\n",
      "Taylor series for cos(x): x**4/24 - x**2/2 + 1\n"
     ]
    }
   ],
   "source": [
    "from sympy import *\n",
    "\n",
    "x = Symbol('x')\n",
    "\n",
    "ts_sin = series(sin(x), x).removeO()\n",
    "ts_cos = series(cos(x), x).removeO()\n",
    "print(\"Taylor series for sin(x):\", ts_sin)\n",
    "print(\"Taylor series for cos(x):\", ts_cos)"
   ]
  },
  {
   "cell_type": "code",
   "execution_count": 4,
   "id": "66170040",
   "metadata": {},
   "outputs": [
    {
     "name": "stdout",
     "output_type": "stream",
     "text": [
      "Taylor series for sin(x): 0.000333000119025581 - 0.0499167083234141*(x - 0.1)**2 - 0.165834027546338*(x - 0.1)**3 + 0.00415972569361784*(x - 0.1)**4 + 0.995004165278026*x + O((x - 0.1)**5, (x, 0.1))\n",
      "Taylor series for cos(x): 1.11729533119247 - 0.438791280945186*(x - 0.5)**2 + 0.0799042564340338*(x - 0.5)**3 - 0.479425538604203*x + O((x - 0.5)**4, (x, 0.5))\n"
     ]
    }
   ],
   "source": [
    "from sympy import *\n",
    "\n",
    "x = Symbol('x')\n",
    "\n",
    "ts_sin = series(sin(x), x, 0.1, 5) # taylor series around pi/4 with max power 5\n",
    "ts_cos = series(cos(x), x, 0.5, 4) #  taylor series around pi/3 with max power 4\n",
    "print(\"Taylor series for sin(x):\", ts_sin)\n",
    "print(\"Taylor series for cos(x):\", ts_cos)"
   ]
  },
  {
   "cell_type": "code",
   "execution_count": 5,
   "id": "72b1ad6b",
   "metadata": {},
   "outputs": [],
   "source": [
    "#Substituting values"
   ]
  },
  {
   "cell_type": "code",
   "execution_count": 6,
   "id": "36f37f3d",
   "metadata": {},
   "outputs": [
    {
     "name": "stdout",
     "output_type": "stream",
     "text": [
      "Taylor series for sin(x): -pi**3/6000 - pi**7/50400000000 + pi**5/12000000 + pi/10\n"
     ]
    }
   ],
   "source": [
    "from sympy import *\n",
    "\n",
    "x = Symbol('x')\n",
    "\n",
    "s8 = sin(x).series(x, 0, 8).removeO()\n",
    "print(\"Taylor series for sin(x):\", s8.subs({x: pi/10}))"
   ]
  },
  {
   "cell_type": "code",
   "execution_count": 7,
   "id": "fc3149f2",
   "metadata": {},
   "outputs": [],
   "source": [
    "#Formal power series of e^x"
   ]
  },
  {
   "cell_type": "code",
   "execution_count": 8,
   "id": "7afa4cb6",
   "metadata": {},
   "outputs": [
    {
     "name": "stdout",
     "output_type": "stream",
     "text": [
      "109/15\n"
     ]
    }
   ],
   "source": [
    "from sympy import *\n",
    "\n",
    "x = Symbol('x')\n",
    "\n",
    "fps_exp = fps(exp(x), x, 0).truncate(6).removeO() # formal power series of exp around 0\n",
    "print(fps_exp.subs({x: 2}))"
   ]
  },
  {
   "cell_type": "code",
   "execution_count": 9,
   "id": "76bad610",
   "metadata": {},
   "outputs": [
    {
     "name": "stdout",
     "output_type": "stream",
     "text": [
      "x**15/1307674368000\n"
     ]
    }
   ],
   "source": [
    "from sympy import *\n",
    "\n",
    "x = Symbol('x')\n",
    "\n",
    "fps_exp = fps(exp(x), x, 0) # formal power series of exp around 0\n",
    "print(fps_exp[15])"
   ]
  },
  {
   "cell_type": "code",
   "execution_count": null,
   "id": "0675e800",
   "metadata": {},
   "outputs": [],
   "source": []
  }
 ],
 "metadata": {
  "kernelspec": {
   "display_name": "Python 3 (ipykernel)",
   "language": "python",
   "name": "python3"
  },
  "language_info": {
   "codemirror_mode": {
    "name": "ipython",
    "version": 3
   },
   "file_extension": ".py",
   "mimetype": "text/x-python",
   "name": "python",
   "nbconvert_exporter": "python",
   "pygments_lexer": "ipython3",
   "version": "3.8.8"
  }
 },
 "nbformat": 4,
 "nbformat_minor": 5
}
