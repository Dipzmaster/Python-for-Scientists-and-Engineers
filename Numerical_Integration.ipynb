{
 "cells": [
  {
   "cell_type": "code",
   "execution_count": 1,
   "id": "9d07aa12",
   "metadata": {},
   "outputs": [],
   "source": [
    "#Single integration"
   ]
  },
  {
   "cell_type": "code",
   "execution_count": 2,
   "id": "aa146c01",
   "metadata": {},
   "outputs": [
    {
     "name": "stdout",
     "output_type": "stream",
     "text": [
      "Value of integral: 0.9999999999999999\n",
      "Error in integral: 1.1102230246251564e-14\n"
     ]
    },
    {
     "name": "stderr",
     "output_type": "stream",
     "text": [
      "C:\\Users\\HP\\AppData\\Local\\Temp/ipykernel_7288/3113609470.py:6: DeprecationWarning: scipy.sin is deprecated and will be removed in SciPy 2.0.0, use numpy.sin instead\n",
      "  return (2 * sin(x) * cos(x))\n",
      "C:\\Users\\HP\\AppData\\Local\\Temp/ipykernel_7288/3113609470.py:6: DeprecationWarning: scipy.cos is deprecated and will be removed in SciPy 2.0.0, use numpy.cos instead\n",
      "  return (2 * sin(x) * cos(x))\n"
     ]
    }
   ],
   "source": [
    "from scipy import *\n",
    "from scipy.integrate import quad\n",
    "\n",
    "# function to be integrated\n",
    "def f(x):\n",
    "    return (2 * sin(x) * cos(x))\n",
    "\n",
    "# call quad to integrate the function f from 0 to pi/2\n",
    "val, err = quad(f, 0, pi/2)\n",
    "print(\"Value of integral:\", val)\n",
    "print(\"Error in integral:\", err)"
   ]
  },
  {
   "cell_type": "code",
   "execution_count": 3,
   "id": "3891caf4",
   "metadata": {},
   "outputs": [
    {
     "name": "stdout",
     "output_type": "stream",
     "text": [
      "Value of integral: 1.7724538509055159\n",
      "Error in integral: 1.4202636781830878e-08\n"
     ]
    },
    {
     "name": "stderr",
     "output_type": "stream",
     "text": [
      "C:\\Users\\HP\\AppData\\Local\\Temp/ipykernel_7288/1687326595.py:5: DeprecationWarning: scipy.exp is deprecated and will be removed in SciPy 2.0.0, use numpy.exp instead\n",
      "  val, err = quad(lambda x: exp(-x**2) , -Inf, Inf)\n"
     ]
    }
   ],
   "source": [
    "from scipy import *\n",
    "from scipy.integrate import quad\n",
    "\n",
    "# call quad to integrate the function f from -Inf to Inf\n",
    "val, err = quad(lambda x: exp(-x**2) , -Inf, Inf)\n",
    "print(\"Value of integral:\", val)\n",
    "print(\"Error in integral:\", err)"
   ]
  },
  {
   "cell_type": "code",
   "execution_count": 4,
   "id": "8526c183",
   "metadata": {},
   "outputs": [],
   "source": [
    "#Multiple integration"
   ]
  },
  {
   "cell_type": "code",
   "execution_count": 5,
   "id": "dfcf79d5",
   "metadata": {},
   "outputs": [
    {
     "name": "stdout",
     "output_type": "stream",
     "text": [
      "Actual Value: 18\n",
      "Value of integral: 18.0\n",
      "Error in integral: 1.9984014443252818e-13\n"
     ]
    }
   ],
   "source": [
    "from scipy import *\n",
    "from scipy.integrate import quad, dblquad\n",
    "\n",
    "def f(y, x):\n",
    "    return x**2 * y\n",
    "\n",
    "# call dblquad to integrate the function f \n",
    "# x goes from 0 to 3\n",
    "# y goes from 0 to 2\n",
    "val, err = dblquad(f, 0, 3, lambda x: 0, lambda x: 2)\n",
    "\n",
    "print(\"Actual Value:\", 18)      # calculated by hand\n",
    "print(\"Value of integral:\", val)\n",
    "print(\"Error in integral:\", err)"
   ]
  },
  {
   "cell_type": "code",
   "execution_count": 6,
   "id": "2c1eadcb",
   "metadata": {},
   "outputs": [],
   "source": [
    "#Triple integration"
   ]
  },
  {
   "cell_type": "code",
   "execution_count": 7,
   "id": "0474cfa6",
   "metadata": {},
   "outputs": [
    {
     "name": "stdout",
     "output_type": "stream",
     "text": [
      "Actual Volume: 113.09733552923254\n",
      "Value of integral: 113.09733552923254\n",
      "Error in integral: 1.2556326592831072e-12\n"
     ]
    },
    {
     "name": "stderr",
     "output_type": "stream",
     "text": [
      "C:\\Users\\HP\\AppData\\Local\\Temp/ipykernel_7288/3271876553.py:5: DeprecationWarning: scipy.sin is deprecated and will be removed in SciPy 2.0.0, use numpy.sin instead\n",
      "  return (r**2 * sin(theta))\n"
     ]
    }
   ],
   "source": [
    "from scipy import *\n",
    "from scipy.integrate import quad, dblquad, tplquad\n",
    "\n",
    "def f(phi, theta, r):\n",
    "    return (r**2 * sin(theta))\n",
    "\n",
    "# call dblquad to integrate the function f \n",
    "# r goes from 0 to 3\n",
    "# theta goes from 0 to pi\n",
    "# phi goes from 0 to 2pi\n",
    "\n",
    "val, err = tplquad(f, 0, 3, lambda r: 0, lambda r: pi, lambda r, theta: 0, lambda r, theta: 2*pi)\n",
    "\n",
    "print(\"Actual Volume:\", (pi) * (3**3) * (4 / 3)) # computed by formula\n",
    "print(\"Value of integral:\", val)\n",
    "print(\"Error in integral:\", err)"
   ]
  },
  {
   "cell_type": "code",
   "execution_count": null,
   "id": "43c63ca3",
   "metadata": {},
   "outputs": [],
   "source": []
  }
 ],
 "metadata": {
  "kernelspec": {
   "display_name": "Python 3 (ipykernel)",
   "language": "python",
   "name": "python3"
  },
  "language_info": {
   "codemirror_mode": {
    "name": "ipython",
    "version": 3
   },
   "file_extension": ".py",
   "mimetype": "text/x-python",
   "name": "python",
   "nbconvert_exporter": "python",
   "pygments_lexer": "ipython3",
   "version": "3.8.8"
  }
 },
 "nbformat": 4,
 "nbformat_minor": 5
}
