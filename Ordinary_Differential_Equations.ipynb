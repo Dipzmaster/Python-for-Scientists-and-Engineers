{
 "cells": [
  {
   "cell_type": "code",
   "execution_count": 1,
   "id": "fa1c284b",
   "metadata": {},
   "outputs": [],
   "source": [
    "#First-order differentials "
   ]
  },
  {
   "cell_type": "code",
   "execution_count": 2,
   "id": "edae6042",
   "metadata": {},
   "outputs": [
    {
     "name": "stdout",
     "output_type": "stream",
     "text": [
      "Eq(y(x), C1*exp(-5*x**3/3))\n"
     ]
    }
   ],
   "source": [
    "from sympy import *\n",
    "\n",
    "x = symbols('x')\n",
    "y = Function('y')(x)\n",
    "\n",
    "dydx = y.diff(x)  # taking single derivative \n",
    "diff_eq = Eq(dydx + 5 * y * x**2, 0)\n",
    "z = dsolve(diff_eq)\n",
    "print(z)"
   ]
  },
  {
   "cell_type": "code",
   "execution_count": 3,
   "id": "40a8c055",
   "metadata": {},
   "outputs": [
    {
     "name": "stdout",
     "output_type": "stream",
     "text": [
      "C1*exp(-5*x**3/3)\n"
     ]
    }
   ],
   "source": [
    "from sympy import *\n",
    "\n",
    "x = symbols('x')\n",
    "y = Function('y')(x)\n",
    "\n",
    "dydx = y.diff(x)  # taking single derivative \n",
    "diff_eq = Eq(dydx + 5 * y * x**2, 0)\n",
    "z = dsolve(diff_eq)\n",
    "print(z.rhs)"
   ]
  },
  {
   "cell_type": "code",
   "execution_count": 4,
   "id": "4ef35c01",
   "metadata": {},
   "outputs": [],
   "source": [
    "#Higher-order differential equations"
   ]
  },
  {
   "cell_type": "code",
   "execution_count": 5,
   "id": "258583ba",
   "metadata": {},
   "outputs": [
    {
     "name": "stdout",
     "output_type": "stream",
     "text": [
      "Eq(x(t), (C1*sin(1.73205080756888*pi*t) + C2*cos(1.73205080756888*pi*t))*exp(-1.0*pi*t))\n"
     ]
    }
   ],
   "source": [
    "from sympy import *\n",
    "\n",
    "t = symbols('t')\n",
    "x = Function('x')(t)\n",
    "W = 2 * pi \n",
    "zeta = 0.5\n",
    "\n",
    "dxdt = x.diff(t)  # taking single derivative \n",
    "dx2dt2 = x.diff(t, t)  # taking double derivative, alternatively dx2dt2 = dxdt.diff(t)\n",
    "diff_eq = Eq((dx2dt2) + (2 * zeta * W * dxdt) + (W**2 * x), 0) # setting up equation \n",
    "z = dsolve(diff_eq)\n",
    "print(z)"
   ]
  },
  {
   "cell_type": "code",
   "execution_count": 6,
   "id": "e6c7b5dc",
   "metadata": {},
   "outputs": [
    {
     "name": "stdout",
     "output_type": "stream",
     "text": [
      "(cos(0.660254037844386*pi) + sin(0.660254037844386*pi))*exp(-5.0*pi)\n"
     ]
    }
   ],
   "source": [
    "from sympy import *\n",
    "\n",
    "t = symbols('t')\n",
    "x = Function('x')(t)\n",
    "W = 2 * pi \n",
    "zeta = 0.5\n",
    "\n",
    "dxdt= x.diff(t)  # taking single derivative \n",
    "dx2dt2 = x.diff(t, t)  # taking double derivative, alternatively dx2dt2 = dxdt.diff(t)\n",
    "diff_eq = Eq((dx2dt2) + (2 * zeta * W * dxdt) + (W**2 * x), 0)\n",
    "z = dsolve(diff_eq)\n",
    "print(z.rhs.subs({'C1': 1, 'C2': 1, t: 5}))"
   ]
  },
  {
   "cell_type": "code",
   "execution_count": 7,
   "id": "5f5066f1",
   "metadata": {},
   "outputs": [
    {
     "data": {
      "text/latex": [
       "$\\displaystyle \\frac{x^{5}}{120}$"
      ],
      "text/plain": [
       "x**5/120"
      ]
     },
     "execution_count": 7,
     "metadata": {},
     "output_type": "execute_result"
    }
   ],
   "source": [
    "x = Symbol('x')\n",
    "fps_exp = fps(sin(x), x, 0)\n",
    "fps_exp[5]"
   ]
  },
  {
   "cell_type": "code",
   "execution_count": 8,
   "id": "93b1612d",
   "metadata": {},
   "outputs": [],
   "source": [
    "#Integrating Complex Functions"
   ]
  },
  {
   "cell_type": "code",
   "execution_count": 9,
   "id": "20ff853f",
   "metadata": {},
   "outputs": [
    {
     "name": "stdout",
     "output_type": "stream",
     "text": [
      "Taylor Series of f(x): x**9/9 - x**7/7 + x**5/5 - x**3/3 + x\n",
      "Integral of f(x): 0.283\n",
      "-----\n",
      "Taylor Series of g(x): x**3/6 + x**2/2 + x + 1\n",
      "Integral of g(x): 0.0417*x**4 + 0.167*x**3 + 0.5*x**2 + x\n"
     ]
    }
   ],
   "source": [
    "from sympy import *\n",
    "\n",
    "def f(x):     # just a mathematical function\n",
    "    return atan(x)\n",
    "\n",
    "def g(x):       # just a mathematical function\n",
    "    return exp(x)\n",
    "\n",
    "x = Symbol('x')\n",
    "\n",
    "def ts_integral(f, x, n=4, lim1=None, lim2=None):\n",
    "    ts = f(x).series(x, 0, n).removeO()\n",
    "    integral = integrate(ts, (x, lim1, lim2))\n",
    "    return ts, integral.evalf(3) \n",
    "\n",
    "output_1 = ts_integral(f, x, 10, 0, pi/4)\n",
    "output_2 = ts_integral(g, x)\n",
    "\n",
    "print(\"Taylor Series of f(x):\", output_1[0])\n",
    "print(\"Integral of f(x):\", output_1[1])\n",
    "print(\"-----\")\n",
    "print(\"Taylor Series of g(x):\", output_2[0])\n",
    "print(\"Integral of g(x):\", output_2[1])"
   ]
  },
  {
   "cell_type": "code",
   "execution_count": 10,
   "id": "d9b2fa72",
   "metadata": {},
   "outputs": [],
   "source": [
    "#Solve a Differential Equation"
   ]
  },
  {
   "cell_type": "code",
   "execution_count": 11,
   "id": "81ac0dc1",
   "metadata": {},
   "outputs": [
    {
     "name": "stderr",
     "output_type": "stream",
     "text": [
      "C:\\Users\\HP\\anaconda3\\lib\\site-packages\\sympy\\core\\relational.py:495: SymPyDeprecationWarning: \n",
      "\n",
      "Eq(expr) with rhs default to 0 has been deprecated since SymPy 1.5.\n",
      "Use Eq(expr, 0) instead. See\n",
      "https://github.com/sympy/sympy/issues/16587 for more info.\n",
      "\n",
      "  SymPyDeprecationWarning(\n"
     ]
    },
    {
     "name": "stdout",
     "output_type": "stream",
     "text": [
      "(C1 + C2*x)*exp(-x) - cos(x)/2\n"
     ]
    }
   ],
   "source": [
    "from sympy import * \n",
    "\n",
    "x = Symbol('x')\n",
    "y = Function('y')(x)\n",
    "\n",
    "dydx = y.diff(x)\n",
    "d2ydx2 = y.diff(x, x)       # alternatively d2ydx2 = dydx.diff(x)\n",
    "\n",
    "diff_eq = Eq(d2ydx2 + (2 * dydx) + y - sin(x))\n",
    "z = dsolve(diff_eq)\n",
    "\n",
    "print(z.rhs)"
   ]
  },
  {
   "cell_type": "code",
   "execution_count": null,
   "id": "69620854",
   "metadata": {},
   "outputs": [],
   "source": []
  }
 ],
 "metadata": {
  "kernelspec": {
   "display_name": "Python 3 (ipykernel)",
   "language": "python",
   "name": "python3"
  },
  "language_info": {
   "codemirror_mode": {
    "name": "ipython",
    "version": 3
   },
   "file_extension": ".py",
   "mimetype": "text/x-python",
   "name": "python",
   "nbconvert_exporter": "python",
   "pygments_lexer": "ipython3",
   "version": "3.8.8"
  }
 },
 "nbformat": 4,
 "nbformat_minor": 5
}
