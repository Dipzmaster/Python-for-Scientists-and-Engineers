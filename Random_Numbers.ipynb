{
 "cells": [
  {
   "cell_type": "code",
   "execution_count": 1,
   "id": "bd0fd398",
   "metadata": {},
   "outputs": [
    {
     "name": "stdout",
     "output_type": "stream",
     "text": [
      "[0 1 0 0 0 1 1 0 0 0]\n"
     ]
    }
   ],
   "source": [
    "import numpy as np\n",
    "import numpy.random as rnd\n",
    "\n",
    "print(rnd.randint(0, 1 + 1, 10))"
   ]
  },
  {
   "cell_type": "code",
   "execution_count": 2,
   "id": "7401901b",
   "metadata": {},
   "outputs": [
    {
     "name": "stdout",
     "output_type": "stream",
     "text": [
      "[1 1 0 1 0 1 1 0 1 1]\n"
     ]
    }
   ],
   "source": [
    "import numpy as np\n",
    "import numpy.random as rnd\n",
    "\n",
    "rnd.seed(10)\n",
    "print(rnd.randint(0, 1 + 1, 10))"
   ]
  },
  {
   "cell_type": "code",
   "execution_count": 3,
   "id": "d6eebda0",
   "metadata": {},
   "outputs": [
    {
     "name": "stdout",
     "output_type": "stream",
     "text": [
      "[1 2 9]\n"
     ]
    }
   ],
   "source": [
    "import numpy as np\n",
    "import numpy.random as rnd\n",
    "\n",
    "arr = np.arange(1, 11) \n",
    "pick = rnd.choice(arr, 3, replace = True)\n",
    "print(pick)"
   ]
  },
  {
   "cell_type": "code",
   "execution_count": 4,
   "id": "2f2b0d2a",
   "metadata": {},
   "outputs": [],
   "source": [
    "#Flipping once"
   ]
  },
  {
   "cell_type": "code",
   "execution_count": 5,
   "id": "c9dcaba5",
   "metadata": {},
   "outputs": [
    {
     "name": "stdout",
     "output_type": "stream",
     "text": [
      "number of heads: 59\n",
      "number of tails: 41\n"
     ]
    }
   ],
   "source": [
    "import numpy as np\n",
    "import matplotlib.pyplot as plt\n",
    "import numpy.random as rnd\n",
    "\n",
    "flips = rnd.randint(0, 1+1, 100)    #generating random numbers between 0 and 1\n",
    "headcount = 0\n",
    "tailcount = 0\n",
    "for i in range(100):\n",
    "    if flips[i] == 0:\n",
    "        headcount += 1\n",
    "    else:\n",
    "        tailcount += 1\n",
    "\n",
    "print('number of heads:', headcount)\n",
    "print('number of tails:', tailcount)"
   ]
  },
  {
   "cell_type": "code",
   "execution_count": 6,
   "id": "65a449af",
   "metadata": {},
   "outputs": [
    {
     "name": "stdout",
     "output_type": "stream",
     "text": [
      "number of heads: 47\n",
      "number of tails: 53\n"
     ]
    }
   ],
   "source": [
    "import numpy as np\n",
    "import matplotlib.pyplot as plt\n",
    "import numpy.random as rnd\n",
    "\n",
    "flips = rnd.randint(0, 1+1, 100)\n",
    "headcount = len(flips[flips == 0])  #length of array with zeros\n",
    "tailcount = len(flips[flips == 1])  #length of array with ones\n",
    "\n",
    "print('number of heads:', headcount)\n",
    "print('number of tails:', tailcount)"
   ]
  },
  {
   "cell_type": "code",
   "execution_count": 7,
   "id": "19f6b63c",
   "metadata": {},
   "outputs": [
    {
     "name": "stdout",
     "output_type": "stream",
     "text": [
      "outcome  0  is  55\n",
      "outcome  1  is  45\n"
     ]
    }
   ],
   "source": [
    "import numpy as np\n",
    "import matplotlib.pyplot as plt\n",
    "import numpy.random as rnd\n",
    "\n",
    "n = 2    # number of outcomes\n",
    "outcomes = np.zeros(n, dtype='int') # Two outcomes. heads are stored in outcome[0], tails in outcome[1]\n",
    "flips = rnd.randint(0, n, 100)\n",
    "\n",
    "for i in range (n):\n",
    "    outcomes[i] = len(flips[flips == i])    # stores the length of of each outcome in outcomes\n",
    "    print('outcome ', i, ' is ', outcomes[i])"
   ]
  },
  {
   "cell_type": "code",
   "execution_count": 8,
   "id": "b4d699cb",
   "metadata": {},
   "outputs": [],
   "source": [
    "#Flipping multiple times"
   ]
  },
  {
   "cell_type": "code",
   "execution_count": 9,
   "id": "11c7ce99",
   "metadata": {},
   "outputs": [
    {
     "name": "stdout",
     "output_type": "stream",
     "text": [
      "number of 0 tails: 27\n",
      "number of 1 tail: 47\n",
      "number of 2 tails: 26\n"
     ]
    }
   ],
   "source": [
    "import numpy as np\n",
    "import matplotlib.pyplot as plt\n",
    "import numpy.random as rnd\n",
    "\n",
    "rnd.seed(55)    # to make sure the output of rnd is consistent\n",
    "flips = rnd.randint(low=0, high=1+1, size=(2, 100)) # random array of dimensions 2 x 100\n",
    "tails = np.sum(flips, axis=0)\n",
    "number_of_tails = np.zeros(3, dtype='int')\n",
    "\n",
    "for i in range(3):\n",
    "    number_of_tails[i] = np.count_nonzero(tails == i)\n",
    "\n",
    "print('number of 0 tails:', number_of_tails[0])\n",
    "print('number of 1 tail:', number_of_tails[1])\n",
    "print('number of 2 tails:', number_of_tails[2])"
   ]
  },
  {
   "cell_type": "code",
   "execution_count": 10,
   "id": "1fc92d3d",
   "metadata": {},
   "outputs": [],
   "source": [
    "#Bar graph"
   ]
  },
  {
   "cell_type": "code",
   "execution_count": 11,
   "id": "e35aef1f",
   "metadata": {},
   "outputs": [
    {
     "data": {
      "image/png": "[encoded data removed]",
      "text/plain": [
       "<Figure size 432x288 with 1 Axes>"
      ]
     },
     "metadata": {
      "needs_background": "light"
     },
     "output_type": "display_data"
    }
   ],
   "source": [
    "import numpy as np\n",
    "import matplotlib.pyplot as plt\n",
    "import numpy.random as rnd\n",
    "\n",
    "flips = rnd.randint(low=0, high=1+1, size=(2, 100)) # random array of dimensions 2 x 100\n",
    "tails = np.sum(flips, axis = 0)\n",
    "number_of_tails = np.zeros(3, dtype = 'int')\n",
    "for i in range(3):\n",
    "    number_of_tails[i] = np.count_nonzero(tails == i)\n",
    "\n",
    "plt.bar(range(0, 3), number_of_tails)\n",
    "plt.xticks(range(0, 3))\n",
    "plt.xlabel('number of tails')\n",
    "plt.ylabel('occurence in 100 trials');"
   ]
  },
  {
   "cell_type": "code",
   "execution_count": 12,
   "id": "733dc4bd",
   "metadata": {},
   "outputs": [],
   "source": [
    "#Cumulative probability"
   ]
  },
  {
   "cell_type": "code",
   "execution_count": 13,
   "id": "edb25f02",
   "metadata": {},
   "outputs": [
    {
     "name": "stdout",
     "output_type": "stream",
     "text": [
      "cumulative probability  [0.33 0.72 1.  ]\n"
     ]
    }
   ],
   "source": [
    "import numpy as np\n",
    "import matplotlib.pyplot as plt\n",
    "import numpy.random as rnd\n",
    "\n",
    "flips = rnd.randint(low=0, high=1+1, size=(2, 100)) # random array of dimensions 2 x 100\n",
    "tails = np.sum(flips, axis = 0)\n",
    "number_of_tails = np.zeros(3, dtype='int')\n",
    "for i in range(3):\n",
    "    number_of_tails[i] = np.count_nonzero(tails == i)\n",
    "\n",
    "# number_of_tails was computed two code cells back\n",
    "prob = number_of_tails / 100  \n",
    "# So cum_prob[0] = prob[0], cum_prob[1] = prob[0] + prob[1], etc.\n",
    "cum_prob = np.cumsum(prob) \n",
    "print('cumulative probability ', cum_prob)"
   ]
  },
  {
   "cell_type": "code",
   "execution_count": 14,
   "id": "715c1ae9",
   "metadata": {},
   "outputs": [
    {
     "name": "stdout",
     "output_type": "stream",
     "text": [
      "cumulative probability  [0.29 0.73 1.  ]\n"
     ]
    },
    {
     "data": {
      "image/png": "[encoded data removed]",
      "text/plain": [
       "<Figure size 432x288 with 1 Axes>"
      ]
     },
     "metadata": {
      "needs_background": "light"
     },
     "output_type": "display_data"
    }
   ],
   "source": [
    "import numpy as np\n",
    "import matplotlib.pyplot as plt\n",
    "import numpy.random as rnd\n",
    "\n",
    "flips = rnd.randint(low=0, high=1+1, size=(2, 100)) # random array of dimensions 2 x 100\n",
    "tails = np.sum(flips, axis = 0)\n",
    "number_of_tails = np.zeros(3, dtype = 'int')\n",
    "for i in range(3):\n",
    "    number_of_tails[i] = np.count_nonzero(tails == i)\n",
    "\n",
    "# number_of_tails was computed two code cells back\n",
    "prob = number_of_tails / 100  \n",
    "# So cum_prob[0] = prob[0], cum_prob[1] = prob[0] + prob[1], etc.\n",
    "cum_prob = np.cumsum(prob) \n",
    "print('cumulative probability ', cum_prob)\n",
    "\n",
    "plt.bar(range(0, 3), cum_prob)\n",
    "plt.xticks(range(0, 3))\n",
    "plt.xlabel('number of tails in two flips')\n",
    "plt.ylabel('cumulative probability');"
   ]
  },
  {
   "cell_type": "code",
   "execution_count": 15,
   "id": "074096be",
   "metadata": {},
   "outputs": [],
   "source": [
    "#Bernoulli Variable"
   ]
  },
  {
   "cell_type": "code",
   "execution_count": 16,
   "id": "a17bec78",
   "metadata": {},
   "outputs": [
    {
     "name": "stdout",
     "output_type": "stream",
     "text": [
      "probababilties: [0.028 0.157 0.326 0.304 0.153 0.032]\n",
      "cumulative probabilities: [0.028 0.185 0.511 0.815 0.968 1.   ]\n"
     ]
    },
    {
     "data": {
      "image/png": "[encoded data removed]",
      "text/plain": [
       "<Figure size 432x288 with 1 Axes>"
      ]
     },
     "metadata": {
      "needs_background": "light"
     },
     "output_type": "display_data"
    }
   ],
   "source": [
    "import numpy as np\n",
    "import matplotlib.pyplot as plt\n",
    "import numpy.random as rnd\n",
    "\n",
    "N = 1000\n",
    "tails = np.sum(rnd.randint(0, 1+1, (5, 1000)), axis=0)\n",
    "counttails = np.zeros(6, dtype='int')\n",
    "\n",
    "for i in range(6):\n",
    "    counttails[i] = np.count_nonzero(tails == i)\n",
    "\n",
    "prob = counttails / N\n",
    "cum_prob = np.cumsum(prob)\n",
    "print('probababilties:', prob)\n",
    "print('cumulative probabilities:', cum_prob)\n",
    "plt.bar(range(0, 6), cum_prob)\n",
    "plt.xticks(range(0, 6))\n",
    "plt.xlabel('number of tails in two flips')\n",
    "plt.ylabel('cumulative probability');"
   ]
  },
  {
   "cell_type": "code",
   "execution_count": 17,
   "id": "706b9624",
   "metadata": {},
   "outputs": [
    {
     "name": "stdout",
     "output_type": "stream",
     "text": [
      "Theoretical probabilities:\n",
      "0  tails  0.03125\n",
      "1  tails  0.15625\n",
      "2  tails  0.3125\n",
      "3  tails  0.3125\n",
      "4  tails  0.15625\n",
      "5  tails  0.03125\n",
      "Probability with 1000 trials:  [0.025 0.151 0.327 0.325 0.135 0.037]\n",
      "Probability with 10000 trials:  [0.0303 0.1582 0.3138 0.3082 0.161  0.0285]\n",
      "Probability with 100000 trials:  [0.03128 0.1572  0.31117 0.31206 0.15629 0.032  ]\n"
     ]
    }
   ],
   "source": [
    "import numpy as np\n",
    "import numpy.random as rnd\n",
    "from scipy.special import comb\n",
    "\n",
    "print('Theoretical probabilities:')\n",
    "for k in range(6):\n",
    "    y = comb(5, k) * 0.5**k * 0.5**(5 - k)\n",
    "    print(k, ' tails ', y)\n",
    "    \n",
    "for N in (1000, 10000, 100000):\n",
    "    tails = np.sum(rnd.randint(0, 1+1, (5, N)), axis=0)\n",
    "    counttails = np.zeros(6)\n",
    "    for i in range(6):\n",
    "        counttails[i] = np.count_nonzero(tails==i)\n",
    "    print('Probability with', N, 'trials: ', counttails / float(N))"
   ]
  },
  {
   "cell_type": "code",
   "execution_count": 18,
   "id": "07ab1995",
   "metadata": {},
   "outputs": [],
   "source": [
    "#Normal distribution"
   ]
  },
  {
   "cell_type": "code",
   "execution_count": 19,
   "id": "3263a0b2",
   "metadata": {},
   "outputs": [
    {
     "name": "stdout",
     "output_type": "stream",
     "text": [
      "mean of data:  3.747634712485949\n",
      "standard deviation of data:  1.9635907418144747\n"
     ]
    }
   ],
   "source": [
    "import numpy as np\n",
    "import matplotlib.pyplot as plt\n",
    "import numpy.random as rnd\n",
    "\n",
    "data = rnd.normal(loc=4, scale=2, size=100)  # Array with 100 values\n",
    "print('mean of data: ', np.mean(data))\n",
    "print('standard deviation of data: ', np.std(data))"
   ]
  },
  {
   "cell_type": "code",
   "execution_count": 20,
   "id": "fb7c0552",
   "metadata": {},
   "outputs": [],
   "source": [
    "#Representing data"
   ]
  },
  {
   "cell_type": "code",
   "execution_count": 21,
   "id": "b7eb9fb5",
   "metadata": {},
   "outputs": [
    {
     "name": "stdout",
     "output_type": "stream",
     "text": [
      "number of data points in each bin: [ 6.  6.  9. 19. 18. 17. 13.  9.  2.  1.]\n",
      "limits of the bins: [ 1.41077825  2.39604979  3.38132133  4.36659287  5.35186442  6.33713596\n",
      "  7.3224075   8.30767904  9.29295058 10.27822212 11.26349366]\n"
     ]
    },
    {
     "data": {
      "image/png": "[encoded data removed]",
      "text/plain": [
       "<Figure size 432x288 with 1 Axes>"
      ]
     },
     "metadata": {
      "needs_background": "light"
     },
     "output_type": "display_data"
    }
   ],
   "source": [
    "import numpy as np\n",
    "import matplotlib.pyplot as plt\n",
    "import numpy.random as rnd\n",
    "\n",
    "data = rnd.normal(loc=6, scale=2, size=100)\n",
    "hist_data = plt.hist(data)\n",
    "plt.xlabel('bins')\n",
    "plt.ylabel('number of data points')\n",
    "print('number of data points in each bin:', hist_data[0])\n",
    "print('limits of the bins:', hist_data[1])"
   ]
  },
  {
   "cell_type": "code",
   "execution_count": 22,
   "id": "7ab4d3c4",
   "metadata": {},
   "outputs": [
    {
     "name": "stdout",
     "output_type": "stream",
     "text": [
      "number of data points in each bin: [ 2.  2.  4.  7. 17. 17. 20.  9. 10.  8.  2.  1.]\n",
      "limits of the bins: [ 0.  1.  2.  3.  4.  5.  6.  7.  8.  9. 10. 11. 12.]\n"
     ]
    },
    {
     "data": {
      "image/png": "[encoded data removed]",
      "text/plain": [
       "<Figure size 432x288 with 1 Axes>"
      ]
     },
     "metadata": {
      "needs_background": "light"
     },
     "output_type": "display_data"
    }
   ],
   "source": [
    "import numpy as np\n",
    "import matplotlib.pyplot as plt\n",
    "import numpy.random as rnd\n",
    "\n",
    "data = rnd.normal(loc=6, scale=2, size=100)\n",
    "hist_data = plt.hist(data, bins=12, range=(0, 12))\n",
    "print('number of data points in each bin:', hist_data[0])\n",
    "print('limits of the bins:', hist_data[1])\n",
    "plt.xlabel('bins')\n",
    "plt.ylabel('number of data points');"
   ]
  },
  {
   "cell_type": "code",
   "execution_count": 23,
   "id": "d7746693",
   "metadata": {},
   "outputs": [],
   "source": [
    "#Probability density function"
   ]
  },
  {
   "cell_type": "code",
   "execution_count": 24,
   "id": "fe082a58",
   "metadata": {},
   "outputs": [
    {
     "name": "stdout",
     "output_type": "stream",
     "text": [
      "number of data points in each bin: [0.01010101 0.         0.07070707 0.13131313 0.17171717 0.18181818\n",
      " 0.12121212 0.14141414 0.09090909 0.05050505 0.03030303 0.        ]\n",
      "limits of the bins: [ 0.  1.  2.  3.  4.  5.  6.  7.  8.  9. 10. 11. 12.]\n"
     ]
    },
    {
     "data": {
      "image/png": "[encoded data removed]",
      "text/plain": [
       "<Figure size 432x288 with 1 Axes>"
      ]
     },
     "metadata": {
      "needs_background": "light"
     },
     "output_type": "display_data"
    }
   ],
   "source": [
    "import numpy as np\n",
    "import matplotlib.pyplot as plt\n",
    "import numpy.random as rnd\n",
    "from scipy.stats import norm\n",
    "\n",
    "mu = 6\n",
    "sig = 2\n",
    "n = 100\n",
    "\n",
    "data = rnd.normal(loc=mu, scale=sig, size=n)\n",
    "hist_data = plt.hist(data, bins=12, range=(0, 12), density=True)\n",
    "print('number of data points in each bin:', hist_data[0])\n",
    "print('limits of the bins:', hist_data[1])\n",
    "plt.xlabel('bins')\n",
    "plt.ylabel('number of data points');\n",
    "\n",
    "# plotting pdf\n",
    "x = np.linspace(0, 12, 100)\n",
    "y = norm.pdf(x, loc=mu, scale=sig) # mu=6, sig=2\n",
    "plt.plot(x, y, 'r')\n",
    "plt.xlabel('value')\n",
    "plt.ylabel('probability');"
   ]
  },
  {
   "cell_type": "code",
   "execution_count": 25,
   "id": "ef35e916",
   "metadata": {},
   "outputs": [],
   "source": [
    "#Representing data through percentiles "
   ]
  },
  {
   "cell_type": "code",
   "execution_count": 26,
   "id": "87e22301",
   "metadata": {},
   "outputs": [
    {
     "name": "stdout",
     "output_type": "stream",
     "text": [
      "2.5 percentile: 7.018905353659417\n",
      "50 percentile: 10.035541990615382\n",
      "97.5 percentile: 13.514595383098412\n",
      "95 percentile: 6.495690029438995\n",
      "IQR percentile: 2.772639456191131\n"
     ]
    }
   ],
   "source": [
    "import numpy as np\n",
    "import matplotlib.pyplot as plt\n",
    "import numpy.random as rnd\n",
    "from scipy.stats import norm\n",
    "\n",
    "data = rnd.normal(loc=10, scale=2, size=100)\n",
    "lower, median, upper = np.percentile(data, [2.5, 50, 97.5])\n",
    "lower_Q, upper_Q = np.percentile(data, [25, 75])\n",
    "print('2.5 percentile:', lower)\n",
    "print('50 percentile:', median)\n",
    "print('97.5 percentile:', upper)\n",
    "print('95 percentile:', upper - lower)\n",
    "print('IQR percentile:', upper_Q - lower_Q)"
   ]
  },
  {
   "cell_type": "code",
   "execution_count": 27,
   "id": "cc827133",
   "metadata": {},
   "outputs": [
    {
     "name": "stdout",
     "output_type": "stream",
     "text": [
      "[ 6.08007203 10.         13.91992797]\n"
     ]
    }
   ],
   "source": [
    "from scipy.stats import norm\n",
    "\n",
    "norm_theory = norm.ppf([0.025, 0.5, 0.975], loc=10, scale=2)\n",
    "print (norm_theory)"
   ]
  },
  {
   "cell_type": "code",
   "execution_count": 28,
   "id": "7db96233",
   "metadata": {},
   "outputs": [],
   "source": [
    "#Predicting Election Results"
   ]
  },
  {
   "cell_type": "code",
   "execution_count": 29,
   "id": "7dbcac8a",
   "metadata": {},
   "outputs": [
    {
     "name": "stdout",
     "output_type": "stream",
     "text": [
      "polled for A: 508\n",
      "Octavius will predict the wrong winner\n"
     ]
    }
   ],
   "source": [
    "import numpy as np\n",
    "import numpy.random as rnd\n",
    "\n",
    "rnd.seed(2)\n",
    "people = np.zeros(1000000, dtype='int')  # arthur is 0\n",
    "people[490001:] = 1  # ben is 1\n",
    "poll = rnd.choice(people, 1000)\n",
    "\n",
    "polled_for_arthur = len(poll[poll == 0])\n",
    "\n",
    "print('polled for A:', polled_for_arthur)\n",
    "if polled_for_arthur > 500: \n",
    "    print('Octavius will predict the wrong winner')\n",
    "else:\n",
    "    print('Octavius will predict the correct winner')"
   ]
  },
  {
   "cell_type": "code",
   "execution_count": 30,
   "id": "dc1577eb",
   "metadata": {},
   "outputs": [
    {
     "name": "stdout",
     "output_type": "stream",
     "text": [
      "1000 polls of 1000 people\n",
      "Probability that Octavius predicts correct winner: 0.732\n"
     ]
    }
   ],
   "source": [
    "import numpy as np\n",
    "import numpy.random as rnd\n",
    "\n",
    "rnd.seed(2)\n",
    "\n",
    "arthur_wins = 0\n",
    "ben_wins = 0\n",
    "\n",
    "for i in range(1000):\n",
    "  people = np.zeros(1000000, dtype='int')  # Arthur is 0\n",
    "  people[490001:] = 1  # Ben is 1\n",
    "  poll = rnd.choice(people, 1000)\n",
    "  polled_for_arthur = len(poll[poll ==  0])\n",
    "  \n",
    "  if polled_for_arthur > 500: \n",
    "    arthur_wins += 1\n",
    "  else:\n",
    "    ben_wins += 1\n",
    "    \n",
    "print('1000 polls of 1000 people')\n",
    "print('Probability that Octavius predicts correct winner:', (ben_wins / 1000))"
   ]
  },
  {
   "cell_type": "code",
   "execution_count": null,
   "id": "098d7672",
   "metadata": {},
   "outputs": [],
   "source": []
  }
 ],
 "metadata": {
  "kernelspec": {
   "display_name": "Python 3 (ipykernel)",
   "language": "python",
   "name": "python3"
  },
  "language_info": {
   "codemirror_mode": {
    "name": "ipython",
    "version": 3
   },
   "file_extension": ".py",
   "mimetype": "text/x-python",
   "name": "python",
   "nbconvert_exporter": "python",
   "pygments_lexer": "ipython3",
   "version": "3.8.8"
  }
 },
 "nbformat": 4,
 "nbformat_minor": 5
}
