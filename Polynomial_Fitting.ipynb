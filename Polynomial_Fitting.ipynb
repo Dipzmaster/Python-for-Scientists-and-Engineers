{
 "cells": [
  {
   "cell_type": "code",
   "execution_count": 1,
   "id": "73a24939",
   "metadata": {},
   "outputs": [],
   "source": [
    "#Root mean square error"
   ]
  },
  {
   "cell_type": "code",
   "execution_count": 2,
   "id": "f5ac94cf",
   "metadata": {},
   "outputs": [
    {
     "name": "stdout",
     "output_type": "stream",
     "text": [
      "[ 0.00169234 -0.00079967 -0.12956824 -0.11093555]\n"
     ]
    }
   ],
   "source": [
    "import numpy as np\n",
    "\n",
    "x = np.arange(-10, 11)\n",
    "y = np.random.randn(len(x))     # generating random data for y\n",
    "z = np.polyfit(x, y, 3)         # computing coeffiecients of polynomial of order 3\n",
    "print(z)"
   ]
  },
  {
   "cell_type": "code",
   "execution_count": 3,
   "id": "7d3581df",
   "metadata": {},
   "outputs": [
    {
     "name": "stderr",
     "output_type": "stream",
     "text": [
      "C:\\Users\\HP\\AppData\\Local\\Temp/ipykernel_13216/2291442392.py:13: UserWarning: marker is redundantly defined by the 'marker' keyword argument and the fmt string \"s\" (-> marker='s'). The keyword argument will take precedence.\n",
      "  ax.plot(x, y, 's', marker='.')    # plotting actual data\n"
     ]
    },
    {
     "data": {
      "text/plain": [
       "[<matplotlib.lines.Line2D at 0x228cbd60f70>]"
      ]
     },
     "execution_count": 3,
     "metadata": {},
     "output_type": "execute_result"
    },
    {
     "data": {
      "image/png": "[encoded data removed]",
      "text/plain": [
       "<Figure size 432x288 with 1 Axes>"
      ]
     },
     "metadata": {
      "needs_background": "light"
     },
     "output_type": "display_data"
    }
   ],
   "source": [
    "import numpy as np\n",
    "import matplotlib.pyplot as plt\n",
    "\n",
    "n = 3           # polynomial order\n",
    "x = np.linspace(-10, 11, 20)\n",
    "y = 0.5 * np.random.randn(len(x)) + (0.1 * x**2)   # generating random data for y\n",
    "z = np.polyfit(x, y, n)         # computing coeffiecients of polynomial of order 3\n",
    "\n",
    "p = np.poly1d(z)        # generating a polynomial from the coefficients \n",
    "xp = np.linspace(-10, 11, 100)   # generating xdata for polynomial plotting\n",
    "\n",
    "fig, ax = plt.subplots()\n",
    "ax.plot(x, y, 's', marker='.')    # plotting actual data\n",
    "ax.plot(xp, p(xp))      # plotting polynomial data"
   ]
  },
  {
   "cell_type": "code",
   "execution_count": 4,
   "id": "fefafe01",
   "metadata": {},
   "outputs": [
    {
     "ename": "NameError",
     "evalue": "name 'create' is not defined",
     "output_type": "error",
     "traceback": [
      "\u001b[1;31m---------------------------------------------------------------------------\u001b[0m",
      "\u001b[1;31mNameError\u001b[0m                                 Traceback (most recent call last)",
      "\u001b[1;32m~\\AppData\\Local\\Temp/ipykernel_13216/845474993.py\u001b[0m in \u001b[0;36m<module>\u001b[1;34m\u001b[0m\n\u001b[0;32m      7\u001b[0m \u001b[0mn\u001b[0m \u001b[1;33m=\u001b[0m \u001b[1;36m0\u001b[0m          \u001b[1;31m# polynomial order\u001b[0m\u001b[1;33m\u001b[0m\u001b[1;33m\u001b[0m\u001b[0m\n\u001b[0;32m      8\u001b[0m \u001b[0mx\u001b[0m \u001b[1;33m=\u001b[0m \u001b[0mnp\u001b[0m\u001b[1;33m.\u001b[0m\u001b[0mlinspace\u001b[0m\u001b[1;33m(\u001b[0m\u001b[1;33m-\u001b[0m\u001b[1;36m5\u001b[0m\u001b[1;33m,\u001b[0m \u001b[1;36m5\u001b[0m\u001b[1;33m,\u001b[0m \u001b[1;36m40\u001b[0m\u001b[1;33m)\u001b[0m\u001b[1;33m\u001b[0m\u001b[1;33m\u001b[0m\u001b[0m\n\u001b[1;32m----> 9\u001b[1;33m \u001b[0my\u001b[0m \u001b[1;33m=\u001b[0m \u001b[0mcreate\u001b[0m\u001b[1;33m(\u001b[0m\u001b[0mx\u001b[0m\u001b[1;33m)\u001b[0m       \u001b[1;31m# create random data\u001b[0m\u001b[1;33m\u001b[0m\u001b[1;33m\u001b[0m\u001b[0m\n\u001b[0m\u001b[0;32m     10\u001b[0m \u001b[1;33m\u001b[0m\u001b[0m\n\u001b[0;32m     11\u001b[0m \u001b[0mz\u001b[0m \u001b[1;33m=\u001b[0m \u001b[0mnp\u001b[0m\u001b[1;33m.\u001b[0m\u001b[0mpolyfit\u001b[0m\u001b[1;33m(\u001b[0m\u001b[0mx\u001b[0m\u001b[1;33m,\u001b[0m \u001b[0my\u001b[0m\u001b[1;33m,\u001b[0m \u001b[0mn\u001b[0m\u001b[1;33m)\u001b[0m         \u001b[1;31m# computing coeffiecients of polynomial of order n\u001b[0m\u001b[1;33m\u001b[0m\u001b[1;33m\u001b[0m\u001b[0m\n",
      "\u001b[1;31mNameError\u001b[0m: name 'create' is not defined"
     ]
    }
   ],
   "source": [
    "import matplotlib.pyplot as plt\n",
    "\n",
    "# function to compute root mean square error\n",
    "def RMSE(y1, y2):\n",
    "    return (np.square(np.subtract(y1, y2))).mean()\n",
    "\n",
    "n = 0          # polynomial order\n",
    "x = np.linspace(-5, 5, 40)\n",
    "y = create(x)       # create random data \n",
    "\n",
    "z = np.polyfit(x, y, n)         # computing coeffiecients of polynomial of order n\n",
    "\n",
    "p = np.poly1d(z)            # generating a polynomial from the coefficients \n",
    "xp = np.linspace(-5, 5, 100)      # generating xdata for polynomial plotting\n",
    "\n",
    "error = RMSE(y, p(x))       # computing error\n",
    "print(\"Root mean square error:\", error)\n",
    "\n",
    "fig, ax = plt.subplots()\n",
    "ax.plot(x, y, 's', marker='.')      # plotting actual data\n",
    "ax.plot(xp, p(xp))          # plotting polynomial data"
   ]
  },
  {
   "cell_type": "code",
   "execution_count": null,
   "id": "d33a7f93",
   "metadata": {},
   "outputs": [],
   "source": []
  }
 ],
 "metadata": {
  "kernelspec": {
   "display_name": "Python 3 (ipykernel)",
   "language": "python",
   "name": "python3"
  },
  "language_info": {
   "codemirror_mode": {
    "name": "ipython",
    "version": 3
   },
   "file_extension": ".py",
   "mimetype": "text/x-python",
   "name": "python",
   "nbconvert_exporter": "python",
   "pygments_lexer": "ipython3",
   "version": "3.8.8"
  }
 },
 "nbformat": 4,
 "nbformat_minor": 5
}
