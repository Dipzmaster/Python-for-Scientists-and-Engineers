{
 "cells": [
  {
   "cell_type": "code",
   "execution_count": 1,
   "id": "44f0cd82",
   "metadata": {},
   "outputs": [
    {
     "name": "stdout",
     "output_type": "stream",
     "text": [
      "Derivative of f(x): 4*x**3 + 3*x**2 + 2*x\n",
      "Derivative of g(x): -sin(x) + cos(x)\n",
      "Derivative of h(x): exp(x)*sin(x) + exp(x)*cos(x) + 1\n"
     ]
    }
   ],
   "source": [
    "from sympy import *\n",
    "\n",
    "def f(x):\n",
    "    return (x**4 + x**3 + x**2)\n",
    "\n",
    "def g(x):\n",
    "    return (sin(x) + cos(x))\n",
    "\n",
    "def h(x):\n",
    "    return (sin(x)*exp(x) + x)\n",
    "    \n",
    "x = Symbol('x')\n",
    "\n",
    "print(\"Derivative of f(x):\", diff(f(x), x))\n",
    "print(\"Derivative of g(x):\", diff(g(x), x))\n",
    "print(\"Derivative of h(x):\", diff(h(x), x))"
   ]
  },
  {
   "cell_type": "code",
   "execution_count": 2,
   "id": "8451951f",
   "metadata": {},
   "outputs": [],
   "source": [
    "#Higher-order derivatives"
   ]
  },
  {
   "cell_type": "code",
   "execution_count": 3,
   "id": "f4a1c7e0",
   "metadata": {},
   "outputs": [
    {
     "name": "stdout",
     "output_type": "stream",
     "text": [
      "Second derivative of f(x): 2*(6*x**2 + 3*x + 1)\n",
      "Second derivative of f(x): 2*(6*x**2 + 3*x + 1)\n",
      "-----\n",
      "Third Derivative of g(x): -125*cos(5*x)\n",
      "Third Derivative of g(x): -125*cos(5*x)\n"
     ]
    }
   ],
   "source": [
    "from sympy import *\n",
    "\n",
    "def f(x):\n",
    "    return (x**4 + x**3 + x**2)\n",
    "\n",
    "def g(x):\n",
    "    return sin(5*x)\n",
    "    \n",
    "x = Symbol('x')\n",
    "\n",
    "print(\"Second derivative of f(x):\", diff(f(x), x, x))\n",
    "print(\"Second derivative of f(x):\", diff(f(x), x, 2))    # specifying the value of order of differential\n",
    "print(\"-----\")\n",
    "print(\"Third Derivative of g(x):\", diff(g(x), x, x, x))\n",
    "print(\"Third Derivative of g(x):\", diff(g(x), x, 3)) # specifying the value of order of differential"
   ]
  },
  {
   "cell_type": "markdown",
   "id": "892c84bd",
   "metadata": {},
   "source": [
    "# Partial derivatives"
   ]
  },
  {
   "cell_type": "code",
   "execution_count": 4,
   "id": "1f6a93fb",
   "metadata": {},
   "outputs": [],
   "source": [
    "#First-order"
   ]
  },
  {
   "cell_type": "code",
   "execution_count": 5,
   "id": "043061a3",
   "metadata": {},
   "outputs": [
    {
     "name": "stdout",
     "output_type": "stream",
     "text": [
      "dz/dy =  x**2 + 2*x*y\n",
      "dz/dx =  2*x*y + y**2\n"
     ]
    }
   ],
   "source": [
    "from sympy import *\n",
    "\n",
    "def f(x, y):\n",
    "    return (y**2)*x + (x**2)*y\n",
    "\n",
    "x = Symbol('x')\n",
    "y = Symbol('y')\n",
    "z = f(x, y)\n",
    "\n",
    "print(\"dz/dy = \", diff(z, y))\n",
    "print(\"dz/dx = \", diff(z, x))"
   ]
  },
  {
   "cell_type": "code",
   "execution_count": 6,
   "id": "d3b50103",
   "metadata": {},
   "outputs": [],
   "source": [
    "#Higher-order"
   ]
  },
  {
   "cell_type": "code",
   "execution_count": 7,
   "id": "f80ba4d2",
   "metadata": {},
   "outputs": [
    {
     "name": "stdout",
     "output_type": "stream",
     "text": [
      "d^3z/dy^2dx =  12*x**2*y*(2*x + 3*y)\n"
     ]
    }
   ],
   "source": [
    "from sympy import *\n",
    "\n",
    "def f(x, y):\n",
    "    return (y**4)*(x**3) + (x**4)*(y**3)\n",
    "\n",
    "x = Symbol('x')\n",
    "y = Symbol('y')\n",
    "z = f(x, y)\n",
    "\n",
    "print(\"d^3z/dy^2dx = \", diff(z, y, 2, x, 1)) # or could use diff(z, y, y, x)"
   ]
  },
  {
   "cell_type": "code",
   "execution_count": null,
   "id": "35c54556",
   "metadata": {},
   "outputs": [],
   "source": []
  }
 ],
 "metadata": {
  "kernelspec": {
   "display_name": "Python 3 (ipykernel)",
   "language": "python",
   "name": "python3"
  },
  "language_info": {
   "codemirror_mode": {
    "name": "ipython",
    "version": 3
   },
   "file_extension": ".py",
   "mimetype": "text/x-python",
   "name": "python",
   "nbconvert_exporter": "python",
   "pygments_lexer": "ipython3",
   "version": "3.8.8"
  }
 },
 "nbformat": 4,
 "nbformat_minor": 5
}
