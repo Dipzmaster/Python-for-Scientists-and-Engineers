{
 "cells": [
  {
   "cell_type": "code",
   "execution_count": 3,
   "id": "c13ad5e5",
   "metadata": {},
   "outputs": [],
   "source": [
    "# Indefinite integrals"
   ]
  },
  {
   "cell_type": "code",
   "execution_count": 4,
   "id": "0b62aba5",
   "metadata": {},
   "outputs": [
    {
     "name": "stdout",
     "output_type": "stream",
     "text": [
      "x**3/3 + x**2/2\n"
     ]
    }
   ],
   "source": [
    "from sympy import *\n",
    "\n",
    "def f(x):\n",
    "    return (x**2 + x)\n",
    "\n",
    "x = Symbol('x')\n",
    "\n",
    "print(integrate(f(x), x))"
   ]
  },
  {
   "cell_type": "code",
   "execution_count": 5,
   "id": "37f20a75",
   "metadata": {},
   "outputs": [],
   "source": [
    "#Rational"
   ]
  },
  {
   "cell_type": "code",
   "execution_count": 6,
   "id": "c401412f",
   "metadata": {},
   "outputs": [
    {
     "name": "stdout",
     "output_type": "stream",
     "text": [
      "x**2/2 + x\n"
     ]
    }
   ],
   "source": [
    "from sympy import *\n",
    "\n",
    "def f(x):\n",
    "    return (x**2 / x+1) \n",
    "\n",
    "x = Symbol('x')\n",
    "print(integrate(f(x), x))"
   ]
  },
  {
   "cell_type": "code",
   "execution_count": 7,
   "id": "28ea1613",
   "metadata": {},
   "outputs": [],
   "source": [
    "#Trigonometric"
   ]
  },
  {
   "cell_type": "code",
   "execution_count": 8,
   "id": "d5c72044",
   "metadata": {},
   "outputs": [
    {
     "name": "stdout",
     "output_type": "stream",
     "text": [
      "x/2 - sin(x)*cos(x)/2 + sin(2*x)/2\n"
     ]
    }
   ],
   "source": [
    "from sympy import *\n",
    "\n",
    "def f(x):\n",
    "    return (sin(x)**2 + cos(2*x)) \n",
    "\n",
    "x = Symbol('x')\n",
    "print(integrate(f(x), x))"
   ]
  },
  {
   "cell_type": "code",
   "execution_count": 9,
   "id": "23e5ec38",
   "metadata": {},
   "outputs": [],
   "source": [
    "#Logarithmic and Exponential"
   ]
  },
  {
   "cell_type": "code",
   "execution_count": 10,
   "id": "faacd505",
   "metadata": {},
   "outputs": [
    {
     "name": "stdout",
     "output_type": "stream",
     "text": [
      "(x**2 - 2*x + 2)*exp(x) + log(x)\n"
     ]
    }
   ],
   "source": [
    "from sympy import *\n",
    "\n",
    "def f(x):\n",
    "    return (x**2 * exp(x) + (1 / x)) \n",
    "\n",
    "x = Symbol('x')\n",
    "print(integrate(f(x), x))"
   ]
  },
  {
   "cell_type": "code",
   "execution_count": 11,
   "id": "f1d2d007",
   "metadata": {},
   "outputs": [],
   "source": [
    "#Definite integral"
   ]
  },
  {
   "cell_type": "code",
   "execution_count": 13,
   "id": "5ed53c4d",
   "metadata": {},
   "outputs": [],
   "source": [
    "#Proper Integral"
   ]
  },
  {
   "cell_type": "code",
   "execution_count": 14,
   "id": "1dfb29e0",
   "metadata": {},
   "outputs": [
    {
     "name": "stdout",
     "output_type": "stream",
     "text": [
      "(x**2 - 2*x + 2)*exp(x)\n",
      "12.778\n"
     ]
    }
   ],
   "source": [
    "from sympy import *\n",
    "\n",
    "def f(x):\n",
    "    return (x**2 * exp(x)) \n",
    "\n",
    "x = Symbol('x')\n",
    "print(integrate(f(x), x))       # definite integral\n",
    "print(integrate(f(x), (x, 0, 2)).evalf(5)) # limits are from 0 to 2"
   ]
  },
  {
   "cell_type": "code",
   "execution_count": 15,
   "id": "3c0c0653",
   "metadata": {},
   "outputs": [],
   "source": [
    "#Improper Integral"
   ]
  },
  {
   "cell_type": "code",
   "execution_count": 16,
   "id": "09337038",
   "metadata": {},
   "outputs": [
    {
     "name": "stdout",
     "output_type": "stream",
     "text": [
      "(-2*x - 3)*exp(-x)\n",
      "3\n"
     ]
    }
   ],
   "source": [
    "from sympy import *\n",
    "\n",
    "def f(x):\n",
    "    return (1 + 2*x) * exp(-x) \n",
    "\n",
    "x = Symbol('x')\n",
    "print(integrate(f(x), x))       # definite integral\n",
    "print(integrate(f(x), (x, 0, oo))) # limits are from 0 to inifinite"
   ]
  },
  {
   "cell_type": "code",
   "execution_count": 17,
   "id": "aeb3b398",
   "metadata": {},
   "outputs": [],
   "source": [
    "#Multiple integrals"
   ]
  },
  {
   "cell_type": "code",
   "execution_count": 18,
   "id": "4565dd90",
   "metadata": {},
   "outputs": [
    {
     "name": "stdout",
     "output_type": "stream",
     "text": [
      "x*y*z**4/4 + z*(x**3*y/3 + x*y**2/2)\n"
     ]
    }
   ],
   "source": [
    "from sympy import *\n",
    "\n",
    "def f(x, y, z):\n",
    "    return x**2 + y + z**3\n",
    "\n",
    "x, y, z = symbols('x y z')\n",
    "\n",
    "indef_integ = integrate(f(x, y, z), x, y, z)\n",
    "print(indef_integ)       # indefinite integral"
   ]
  },
  {
   "cell_type": "code",
   "execution_count": 19,
   "id": "ecdf8211",
   "metadata": {},
   "outputs": [],
   "source": [
    "#Definite Integrals"
   ]
  },
  {
   "cell_type": "code",
   "execution_count": 20,
   "id": "dba840ae",
   "metadata": {},
   "outputs": [
    {
     "name": "stdout",
     "output_type": "stream",
     "text": [
      "512\n"
     ]
    }
   ],
   "source": [
    "from sympy import *\n",
    "\n",
    "def f(x, y, z):\n",
    "    return x**2 + y + z**3\n",
    "\n",
    "x, y, z = symbols('x y z')\n",
    "\n",
    "def_integ = integrate(f(x, y, z), (x, 0, 4), (y, -3, 3), (z, -2, 2)) # Definite integral\n",
    "print(def_integ)"
   ]
  },
  {
   "cell_type": "code",
   "execution_count": null,
   "id": "ad75e283",
   "metadata": {},
   "outputs": [],
   "source": []
  }
 ],
 "metadata": {
  "kernelspec": {
   "display_name": "Python 3 (ipykernel)",
   "language": "python",
   "name": "python3"
  },
  "language_info": {
   "codemirror_mode": {
    "name": "ipython",
    "version": 3
   },
   "file_extension": ".py",
   "mimetype": "text/x-python",
   "name": "python",
   "nbconvert_exporter": "python",
   "pygments_lexer": "ipython3",
   "version": "3.8.8"
  }
 },
 "nbformat": 4,
 "nbformat_minor": 5
}
