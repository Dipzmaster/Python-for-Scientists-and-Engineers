{
 "cells": [
  {
   "cell_type": "code",
   "execution_count": 1,
   "id": "565fd67c",
   "metadata": {},
   "outputs": [
    {
     "name": "stdout",
     "output_type": "stream",
     "text": [
      "[1 3 5 7 9]\n"
     ]
    }
   ],
   "source": [
    "import numpy as np\n",
    "\n",
    "x = np.array([1, 3, 5, 7, 9])\n",
    "print(x)"
   ]
  },
  {
   "cell_type": "code",
   "execution_count": 2,
   "id": "2c1126f3",
   "metadata": {},
   "outputs": [
    {
     "name": "stdout",
     "output_type": "stream",
     "text": [
      "[1. 1. 1. 1. 1.]\n",
      "[0. 0. 0. 0. 0.]\n"
     ]
    }
   ],
   "source": [
    "import numpy as np\n",
    "\n",
    "v1 = np.ones(5)\n",
    "v0 = np.zeros(5)\n",
    "print(v1)\n",
    "print(v0)"
   ]
  },
  {
   "cell_type": "code",
   "execution_count": 3,
   "id": "416bab18",
   "metadata": {},
   "outputs": [
    {
     "name": "stdout",
     "output_type": "stream",
     "text": [
      "[1 2 3 4 5 6]\n",
      "[0 1 2 3 4]\n",
      "[1 4 7]\n"
     ]
    }
   ],
   "source": [
    "import numpy as np\n",
    "\n",
    "print(np.arange(1, 7))      # Takes default steps of 1 and doesn't include 7\n",
    "print(np.arange(5))     # Starts at 0 by defualt and ends at 4, giving 5 numbers\n",
    "print(np.arange(1, 10, 3))      # Starts at 1 and ends at less than 10, \n",
    "                                # with a step size of 3"
   ]
  },
  {
   "cell_type": "code",
   "execution_count": 4,
   "id": "d267380e",
   "metadata": {},
   "outputs": [
    {
     "name": "stdout",
     "output_type": "stream",
     "text": [
      "[ 1.  2.  3.  4.  5.  6.  7.  8.  9. 10. 11. 12.]\n",
      "[ 1.    3.75  6.5   9.25 12.  ]\n",
      "[ 1.   6.5 12. ]\n"
     ]
    }
   ],
   "source": [
    "import numpy as np\n",
    "\n",
    "print(np.linspace(1, 12, 12)) \n",
    "print(np.linspace(1, 12, 5))\n",
    "print(np.linspace(1, 12, 3))"
   ]
  },
  {
   "cell_type": "code",
   "execution_count": 5,
   "id": "e726868e",
   "metadata": {},
   "outputs": [
    {
     "name": "stdout",
     "output_type": "stream",
     "text": [
      "[[1. 1. 1. 1.]\n",
      " [1. 1. 1. 1.]\n",
      " [1. 1. 1. 1.]]\n"
     ]
    }
   ],
   "source": [
    "import numpy as np\n",
    "\n",
    "x = np.ones((3, 4)) # An array with 3 rows and 4 columns\n",
    "print(x)"
   ]
  },
  {
   "cell_type": "code",
   "execution_count": 6,
   "id": "39c9b069",
   "metadata": {},
   "outputs": [
    {
     "name": "stdout",
     "output_type": "stream",
     "text": [
      "[[4 2 3 2]\n",
      " [2 4 3 1]\n",
      " [0 4 1 3]]\n"
     ]
    }
   ],
   "source": [
    "import numpy as np\n",
    "\n",
    "x = np.array([[4, 2, 3, 2],\n",
    "              [2, 4, 3, 1],\n",
    "              [0, 4, 1, 3]])\n",
    "print(x)"
   ]
  },
  {
   "cell_type": "code",
   "execution_count": 7,
   "id": "8981a617",
   "metadata": {},
   "outputs": [
    {
     "name": "stdout",
     "output_type": "stream",
     "text": [
      "[[0 1 2 3 4]\n",
      " [0 1 2 3 4]\n",
      " [0 1 2 3 4]\n",
      " [0 1 2 3 4]\n",
      " [0 1 2 3 4]\n",
      " [0 1 2 3 4]]\n",
      "[[ 5  5  5  5  5]\n",
      " [ 6  6  6  6  6]\n",
      " [ 7  7  7  7  7]\n",
      " [ 8  8  8  8  8]\n",
      " [ 9  9  9  9  9]\n",
      " [10 10 10 10 10]]\n"
     ]
    }
   ],
   "source": [
    "import numpy as np\n",
    "\n",
    "x = np.arange(0, 5)\n",
    "y = np.arange(5, 11)\n",
    "\n",
    "[X, Y] = np.meshgrid(x, y)\n",
    "\n",
    "print(X) \n",
    "print(Y)"
   ]
  },
  {
   "cell_type": "code",
   "execution_count": 8,
   "id": "d46a5aec",
   "metadata": {},
   "outputs": [
    {
     "name": "stdout",
     "output_type": "stream",
     "text": [
      "[[4 2 3 2]\n",
      " [2 4 3 1]\n",
      " [0 4 1 3]]\n",
      "\n",
      "[[4 2 3 2 2 4]\n",
      " [3 1 0 4 1 3]]\n",
      "\n",
      "[[4 2 3 2 2 4 3 1 0 4 1 3]]\n"
     ]
    }
   ],
   "source": [
    "import numpy as np\n",
    "\n",
    "x = np.array([[4, 2, 3, 2],\n",
    "              [2, 4, 3, 1],\n",
    "              [0, 4, 1, 3]])\n",
    "print(x)\n",
    "print()\n",
    "print(np.reshape(x, (2, 6)))  # 2 rows, 6 columns\n",
    "print()\n",
    "print(np.reshape(x, (1, 12)))  # 1 row, 12 columns"
   ]
  },
  {
   "cell_type": "code",
   "execution_count": 9,
   "id": "d8db3acf",
   "metadata": {},
   "outputs": [
    {
     "name": "stdout",
     "output_type": "stream",
     "text": [
      "size of v is  3\n",
      "shape of v is  (3,)\n",
      "size of M is  12\n",
      "shape of M is  (3, 4)\n"
     ]
    }
   ],
   "source": [
    "import numpy as np\n",
    "\n",
    "v = np.array([1, 5, 9])\n",
    "M = np.array([[4, 2, 3, 2],\n",
    "              [2, 4, 3, 1],\n",
    "              [0, 4, 1, 3]])\n",
    "\n",
    "print(\"size of v is \", v.size)\n",
    "print(\"shape of v is \", v.shape)\n",
    "\n",
    "print(\"size of M is \", M.size)\n",
    "print(\"shape of M is \", M.shape)"
   ]
  },
  {
   "cell_type": "code",
   "execution_count": 10,
   "id": "95a1e115",
   "metadata": {},
   "outputs": [
    {
     "name": "stdout",
     "output_type": "stream",
     "text": [
      "Bytes per element of M is 4\n",
      "Number of bytes of M are 48\n",
      "Dimensions of M are 2\n",
      "Data type of elements in M is int32\n"
     ]
    }
   ],
   "source": [
    "import numpy as np\n",
    "\n",
    "M = np.array([[4, 2, 3, 2],\n",
    "              [2, 4, 3, 1],\n",
    "              [0, 4, 1, 3]])\n",
    "\n",
    "print(\"Bytes per element of M is\", M.itemsize)\n",
    "print(\"Number of bytes of M are\", M.nbytes)\n",
    "print(\"Dimensions of M are\", M.ndim)\n",
    "print(\"Data type of elements in M is\", M.dtype)"
   ]
  },
  {
   "cell_type": "code",
   "execution_count": 11,
   "id": "82641c4b",
   "metadata": {},
   "outputs": [
    {
     "name": "stdout",
     "output_type": "stream",
     "text": [
      "[ 1  7 13 19 25 31 37 43 49]\n"
     ]
    }
   ],
   "source": [
    "print(np.arange(1, 50, 6))"
   ]
  },
  {
   "cell_type": "code",
   "execution_count": 12,
   "id": "7edd4200",
   "metadata": {},
   "outputs": [
    {
     "data": {
      "text/plain": [
       "array([ 1.  ,  5.75, 10.5 , 15.25, 20.  ])"
      ]
     },
     "execution_count": 12,
     "metadata": {},
     "output_type": "execute_result"
    }
   ],
   "source": [
    "np.linspace(1, 20, 5)"
   ]
  },
  {
   "cell_type": "code",
   "execution_count": 13,
   "id": "3ebef320",
   "metadata": {},
   "outputs": [
    {
     "name": "stdout",
     "output_type": "stream",
     "text": [
      "[[1 1 1 1 2 2]\n",
      " [2 2 3 3 3 3]]\n"
     ]
    }
   ],
   "source": [
    "x = np.array([[1, 1, 1, 1], [2, 2, 2, 2], [3, 3, 3, 3]])\n",
    "\n",
    "print(np.reshape(x, (2, 6))) "
   ]
  },
  {
   "cell_type": "code",
   "execution_count": 14,
   "id": "4137f6c1",
   "metadata": {},
   "outputs": [],
   "source": [
    "x = np.arange(0, 3)\n",
    "y = np.arange(4, 8)\n",
    "\n",
    "[X, Y] = np.meshgrid(x, y)"
   ]
  },
  {
   "cell_type": "code",
   "execution_count": 16,
   "id": "4fb8f67f",
   "metadata": {},
   "outputs": [
    {
     "name": "stdout",
     "output_type": "stream",
     "text": [
      "[0 1 2]\n",
      "[4 5 6 7]\n",
      "[array([[0, 1, 2],\n",
      "       [0, 1, 2],\n",
      "       [0, 1, 2],\n",
      "       [0, 1, 2]]), array([[4, 4, 4],\n",
      "       [5, 5, 5],\n",
      "       [6, 6, 6],\n",
      "       [7, 7, 7]])]\n"
     ]
    }
   ],
   "source": [
    "print(x)\n",
    "print(y)\n",
    "print([X, Y])"
   ]
  },
  {
   "cell_type": "code",
   "execution_count": 17,
   "id": "7fd9b3bf",
   "metadata": {},
   "outputs": [
    {
     "name": "stdout",
     "output_type": "stream",
     "text": [
      "5\n"
     ]
    }
   ],
   "source": [
    "import numpy as np\n",
    "\n",
    "v = np.array([1, 5, 9])\n",
    "print(v[1])"
   ]
  },
  {
   "cell_type": "code",
   "execution_count": 18,
   "id": "a96cb166",
   "metadata": {},
   "outputs": [
    {
     "name": "stdout",
     "output_type": "stream",
     "text": [
      "3\n"
     ]
    }
   ],
   "source": [
    "import numpy as np\n",
    "\n",
    "M = np.array([[4, 2, 3, 2],\n",
    "              [2, 4, 3, 1],\n",
    "              [0, 4, 1, 3]])\n",
    "print(M[1,2])"
   ]
  },
  {
   "cell_type": "code",
   "execution_count": 19,
   "id": "b7b33c49",
   "metadata": {},
   "outputs": [
    {
     "name": "stdout",
     "output_type": "stream",
     "text": [
      "[2 4 3 1]\n"
     ]
    }
   ],
   "source": [
    "import numpy as np\n",
    "\n",
    "M = np.array([[4, 2, 3, 2],\n",
    "              [2, 4, 3, 1],\n",
    "              [0, 4, 1, 3]])\n",
    "print(M[1])"
   ]
  },
  {
   "cell_type": "code",
   "execution_count": 20,
   "id": "47184887",
   "metadata": {},
   "outputs": [
    {
     "name": "stdout",
     "output_type": "stream",
     "text": [
      "[2 4 3 1]\n",
      "[2 4 4]\n"
     ]
    }
   ],
   "source": [
    "import numpy as np\n",
    "\n",
    "M = np.array([[4, 2, 3, 2],\n",
    "              [2, 4, 3, 1],\n",
    "              [0, 4, 1, 3]])\n",
    "print(M[1,:]) # prints the entire 2nd row\n",
    "print(M[:,1]) # prints the entire 2nd column"
   ]
  },
  {
   "cell_type": "code",
   "execution_count": 21,
   "id": "d0e04642",
   "metadata": {},
   "outputs": [
    {
     "name": "stdout",
     "output_type": "stream",
     "text": [
      "[[4 2 3 2]\n",
      " [2 4 3 1]\n",
      " [0 4 1 3]]\n",
      "--------\n",
      "[[ 4  2  3  2]\n",
      " [ 2  4  3  1]\n",
      " [ 0  4  1 24]]\n"
     ]
    }
   ],
   "source": [
    "import numpy as np\n",
    "\n",
    "M = np.array([[4, 2, 3, 2],\n",
    "              [2, 4, 3, 1],\n",
    "              [0, 4, 1, 3]])\n",
    "print(M)\n",
    "M[2, 3] = 24 #changing element at 3rd row and 4th column\n",
    "print(\"--------\")\n",
    "print(M)"
   ]
  },
  {
   "cell_type": "code",
   "execution_count": 22,
   "id": "0afa4b2c",
   "metadata": {},
   "outputs": [
    {
     "name": "stdout",
     "output_type": "stream",
     "text": [
      "[5 7]\n"
     ]
    }
   ],
   "source": [
    "import numpy as np\n",
    "\n",
    "v = np.array([1, 3, 5, 7, 9, 11])\n",
    "print(v[2:4]) # 4th element will not be included"
   ]
  },
  {
   "cell_type": "code",
   "execution_count": 23,
   "id": "bee37a09",
   "metadata": {},
   "outputs": [
    {
     "name": "stdout",
     "output_type": "stream",
     "text": [
      "[ 5  7  9 11]\n",
      "[1 3]\n",
      "[1 5 9]\n"
     ]
    }
   ],
   "source": [
    "import numpy as np\n",
    "\n",
    "v = np.array([1, 3, 5, 7, 9, 11])\n",
    "print(v[2::])\n",
    "print(v[:2:])\n",
    "print(v[::2])"
   ]
  },
  {
   "cell_type": "code",
   "execution_count": 24,
   "id": "bc2084b0",
   "metadata": {},
   "outputs": [
    {
     "name": "stdout",
     "output_type": "stream",
     "text": [
      "[[ 0  1  2  3  4]\n",
      " [20 21 22 23 24]\n",
      " [40 41 42 43 44]\n",
      " [60 61 62 63 64]\n",
      " [80 81 82 83 84]]\n",
      "------\n",
      "[[21 22]\n",
      " [41 42]\n",
      " [61 62]]\n"
     ]
    }
   ],
   "source": [
    "import numpy as np\n",
    "M = np.array([[(n + m * 20) for n in range(5)] for m in range(5)])\n",
    "\n",
    "print(M)\n",
    "print(\"------\")\n",
    "print(M[1:4, 1:3]) # slice rows 1, 2 and 3 and columns 1 and 2 "
   ]
  },
  {
   "cell_type": "code",
   "execution_count": 25,
   "id": "d342682b",
   "metadata": {},
   "outputs": [
    {
     "name": "stdout",
     "output_type": "stream",
     "text": [
      "[ 1  2  3  4  5  6  7  8  9 10]\n",
      "-----\n",
      "Using scalar addition\n",
      "[ 3  4  5  6  7  8  9 10 11 12]\n",
      "-----\n",
      "Using scalar subtraction\n",
      "[-1  0  1  2  3  4  5  6  7  8]\n",
      "-----\n",
      "Using scalar multiplication\n",
      "[ 2  4  6  8 10 12 14 16 18 20]\n",
      "-----\n",
      "Using scalar division\n",
      "[0.5 1.  1.5 2.  2.5 3.  3.5 4.  4.5 5. ]\n"
     ]
    }
   ],
   "source": [
    "import numpy as np\n",
    "\n",
    "v = np.arange(1, 11)\n",
    "print(v) \n",
    "\n",
    "print(\"-----\")\n",
    "print(\"Using scalar addition\")\n",
    "print(v + 2) # adding 2 to each element in the vector\n",
    "\n",
    "print(\"-----\")\n",
    "print(\"Using scalar subtraction\")\n",
    "print(v - 2) # subtracting 2 from each element in the vector\n",
    "\n",
    "print(\"-----\")\n",
    "print(\"Using scalar multiplication\")\n",
    "print(v * 2) # multiplying each element by 2 in the vector\n",
    "\n",
    "print(\"-----\")\n",
    "print(\"Using scalar division\")\n",
    "print(v / 2) # dividing each element by 2 in the vector"
   ]
  },
  {
   "cell_type": "code",
   "execution_count": 26,
   "id": "56d441e9",
   "metadata": {},
   "outputs": [
    {
     "name": "stdout",
     "output_type": "stream",
     "text": [
      "[[ 0  1  2  3  4]\n",
      " [20 21 22 23 24]\n",
      " [40 41 42 43 44]\n",
      " [60 61 62 63 64]\n",
      " [80 81 82 83 84]]\n",
      "-----\n",
      "Using scalar addition\n",
      "[[ 2  3  4  5  6]\n",
      " [22 23 24 25 26]\n",
      " [42 43 44 45 46]\n",
      " [62 63 64 65 66]\n",
      " [82 83 84 85 86]]\n",
      "-----\n",
      "Using scalar subtraction\n",
      "[[-2 -1  0  1  2]\n",
      " [18 19 20 21 22]\n",
      " [38 39 40 41 42]\n",
      " [58 59 60 61 62]\n",
      " [78 79 80 81 82]]\n",
      "-----\n",
      "Using scalar multiplication\n",
      "[[  0   2   4   6   8]\n",
      " [ 40  42  44  46  48]\n",
      " [ 80  82  84  86  88]\n",
      " [120 122 124 126 128]\n",
      " [160 162 164 166 168]]\n",
      "-----\n",
      "Using scalar division\n",
      "[[ 0.   0.5  1.   1.5  2. ]\n",
      " [10.  10.5 11.  11.5 12. ]\n",
      " [20.  20.5 21.  21.5 22. ]\n",
      " [30.  30.5 31.  31.5 32. ]\n",
      " [40.  40.5 41.  41.5 42. ]]\n"
     ]
    }
   ],
   "source": [
    "import numpy as np\n",
    "\n",
    "M = np.array([[(n + m * 20) for n in range(5)] for m in range(5)])\n",
    "print(M) \n",
    "\n",
    "print(\"-----\")\n",
    "print(\"Using scalar addition\")\n",
    "print(M + 2) # adding 2 to each element in the matrix\n",
    "\n",
    "print(\"-----\")\n",
    "print(\"Using scalar subtraction\")\n",
    "print(M - 2) # subtracting 2 from each element in the matrix\n",
    "\n",
    "print(\"-----\")\n",
    "print(\"Using scalar multiplication\")\n",
    "print(M * 2) # multiplying each element by 2 in the matrix\n",
    "\n",
    "print(\"-----\")\n",
    "print(\"Using scalar division\")\n",
    "print(M / 2) # dividing each element by 2 in the matrix"
   ]
  },
  {
   "cell_type": "code",
   "execution_count": 27,
   "id": "cb760614",
   "metadata": {},
   "outputs": [
    {
     "name": "stdout",
     "output_type": "stream",
     "text": [
      "M\n",
      "[[ 0  1  2]\n",
      " [ 5  6  7]\n",
      " [10 11 12]]\n",
      "N\n",
      "[[ 0  5 10]\n",
      " [ 0  5 10]\n",
      " [ 0  5 10]]\n",
      "-----\n",
      "M * M\n",
      "[[  0   1   4]\n",
      " [ 25  36  49]\n",
      " [100 121 144]]\n",
      "-----\n",
      "M + M\n",
      "[[ 0  2  4]\n",
      " [10 12 14]\n",
      " [20 22 24]]\n",
      "-----\n",
      "M - N\n",
      "[[ 0 -4 -8]\n",
      " [ 5  1 -3]\n",
      " [10  6  2]]\n",
      "-----\n",
      "(M + 1) / (N + 1)\n",
      "[[0.5        0.28571429 0.25      ]\n",
      " [3.         1.         0.66666667]\n",
      " [5.5        1.71428571 1.08333333]]\n"
     ]
    }
   ],
   "source": [
    "import numpy as np\n",
    "\n",
    "M = np.array([[(n + m * 5) for n in range(3)] for m in range(3)])\n",
    "print(\"M\")\n",
    "print(M) \n",
    "\n",
    "N = np.array([[(n * 5) for n in range(3)] for m in range(3)])\n",
    "print(\"N\")\n",
    "print(N) \n",
    "\n",
    "print(\"-----\")\n",
    "print(\"M * M\")\n",
    "print(M * M) # multiplication\n",
    "\n",
    "print(\"-----\")\n",
    "print(\"M + M\") # addition\n",
    "print(M + M)\n",
    "\n",
    "print(\"-----\")\n",
    "print(\"M - N\") # subtraction\n",
    "print(M - N)\n",
    "\n",
    "print(\"-----\")\n",
    "print(\"(M + 1) / (N + 1)\")\n",
    "print((M + 1) / (N + 2)) # division \n",
    "                         # to avoid division by zero, we have added scalar 1"
   ]
  },
  {
   "cell_type": "code",
   "execution_count": 28,
   "id": "5b088d1a",
   "metadata": {},
   "outputs": [
    {
     "name": "stdout",
     "output_type": "stream",
     "text": [
      "M\n",
      "[[ 0  1  2  3]\n",
      " [ 5  6  7  8]\n",
      " [10 11 12 13]\n",
      " [15 16 17 18]\n",
      " [20 21 22 23]]\n",
      "N\n",
      "[1 2 3 4]\n",
      "-----\n",
      "N * M\n",
      "[[ 0  2  6 12]\n",
      " [ 5 12 21 32]\n",
      " [10 22 36 52]\n",
      " [15 32 51 72]\n",
      " [20 42 66 92]]\n"
     ]
    }
   ],
   "source": [
    "import numpy as np\n",
    "\n",
    "M = np.array([[(n + m * 5) for n in range(4)] for m in range(5)])\n",
    "print(\"M\")\n",
    "print(M)        # 5 rows and 4 columns\n",
    "\n",
    "N = np.array([1, 2, 3, 4])\n",
    "print(\"N\")\n",
    "print(N)        # 1 row and 4 columns\n",
    "\n",
    "print(\"-----\")\n",
    "print(\"N * M\")\n",
    "print(N * M)"
   ]
  },
  {
   "cell_type": "code",
   "execution_count": 29,
   "id": "18705ff5",
   "metadata": {},
   "outputs": [
    {
     "name": "stdout",
     "output_type": "stream",
     "text": [
      "M\n",
      "[[ 0  1  2  3]\n",
      " [ 5  6  7  8]\n",
      " [10 11 12 13]\n",
      " [15 16 17 18]\n",
      " [20 21 22 23]]\n",
      "N\n",
      "[[1]\n",
      " [2]\n",
      " [3]\n",
      " [4]\n",
      " [5]]\n",
      "-----\n",
      "N * M\n",
      "[[  0   1   2   3]\n",
      " [ 10  12  14  16]\n",
      " [ 30  33  36  39]\n",
      " [ 60  64  68  72]\n",
      " [100 105 110 115]]\n"
     ]
    }
   ],
   "source": [
    "import numpy as np\n",
    "\n",
    "M = np.array([[(n + m * 5) for n in range(4)] for m in range(5)])\n",
    "print(\"M\")\n",
    "print(M) \n",
    "\n",
    "N = np.array([[1], [2], [3], [4], [5]])\n",
    "print(\"N\")\n",
    "print(N)\n",
    "\n",
    "print(\"-----\")\n",
    "print(\"N * M\")\n",
    "print(N * M)"
   ]
  },
  {
   "cell_type": "code",
   "execution_count": 30,
   "id": "21b53238",
   "metadata": {},
   "outputs": [
    {
     "name": "stdout",
     "output_type": "stream",
     "text": [
      "mean 2.5500000000000003\n",
      "standard deviation 0.25980762113533157\n",
      "variance 0.06749999999999998\n"
     ]
    }
   ],
   "source": [
    "import numpy as np\n",
    "\n",
    "current = np.array([2.2, 2.5, 2.5, 2.7, 2.1, 2.5, 2.6, 2.5, 3.0, 2.9, 2.3, 2.8])\n",
    "print(\"mean\", np.mean(current))     # to calculate mean\n",
    "print(\"standard deviation\", np.std(current))    # to calculate standard deviation\n",
    "print(\"variance\", np.var(current))      # to calculate variance"
   ]
  },
  {
   "cell_type": "code",
   "execution_count": 31,
   "id": "b6b74236",
   "metadata": {},
   "outputs": [
    {
     "name": "stdout",
     "output_type": "stream",
     "text": [
      "maximum value: 3.0\n"
     ]
    }
   ],
   "source": [
    "import numpy as np\n",
    "\n",
    "current = np.array([2.2, 2.5, 2.5, 2.7, 2.1, 2.5, 2.6, 2.5, 3.0, 2.9, 2.3, 2.8])\n",
    "print(\"maximum value:\", np.max(current))     # to calculate maximum value"
   ]
  },
  {
   "cell_type": "code",
   "execution_count": 32,
   "id": "ac225173",
   "metadata": {},
   "outputs": [
    {
     "name": "stdout",
     "output_type": "stream",
     "text": [
      "minimum value: 2.1\n"
     ]
    }
   ],
   "source": [
    "import numpy as np\n",
    "\n",
    "current = np.array([2.2, 2.5, 2.5, 2.7, 2.1, 2.5, 2.6, 2.5, 3.0, 2.9, 2.3, 2.8])\n",
    "print(\"minimum value:\", np.min(current))     # to calculate minimum value"
   ]
  },
  {
   "cell_type": "code",
   "execution_count": 33,
   "id": "561547d2",
   "metadata": {},
   "outputs": [
    {
     "name": "stdout",
     "output_type": "stream",
     "text": [
      "Real part of arr = [1. 2. 3. 8.]\n",
      "Imaginary part of arr =  [ 3.  5.  1. -2.]\n"
     ]
    }
   ],
   "source": [
    "import numpy as np\n",
    "\n",
    "arr = np.array([1+3j, 2+5j, 3+1j, 8-2j])\n",
    "print(\"Real part of arr =\", arr.real)\n",
    "print(\"Imaginary part of arr = \", arr.imag)"
   ]
  },
  {
   "cell_type": "code",
   "execution_count": 34,
   "id": "7310d87c",
   "metadata": {},
   "outputs": [
    {
     "name": "stdout",
     "output_type": "stream",
     "text": [
      "Sum: 45\n",
      "Product: 362880\n",
      "Cumulative Sum: [ 1  3  6 10 15 21 28 36 45]\n",
      "Cumulative Product: [     1      2      6     24    120    720   5040  40320 362880]\n"
     ]
    }
   ],
   "source": [
    "import numpy as np\n",
    "\n",
    "v = np.arange(1, 10)\n",
    "\n",
    "print(\"Sum:\", np.sum(v))\n",
    "print(\"Product:\", np.prod(v))\n",
    "print(\"Cumulative Sum:\", np.cumsum(v))\n",
    "print(\"Cumulative Product:\", np.cumprod(v))"
   ]
  },
  {
   "cell_type": "code",
   "execution_count": 35,
   "id": "3fddff7c",
   "metadata": {},
   "outputs": [
    {
     "name": "stdout",
     "output_type": "stream",
     "text": [
      "the total array: [0 1 2 3 4 5 6 7 8 9]\n",
      "array of booleans: [ True  True  True  True  True False False False False False]\n",
      "values less than 5: [0 1 2 3 4]\n"
     ]
    }
   ],
   "source": [
    "import numpy as np\n",
    "\n",
    "a = np.arange(10)\n",
    "print('the total array:', a)\n",
    "print(\"array of booleans:\", a < 5)\n",
    "print('values less than 5:', a[a < 5])"
   ]
  },
  {
   "cell_type": "code",
   "execution_count": 36,
   "id": "0422d892",
   "metadata": {},
   "outputs": [
    {
     "name": "stdout",
     "output_type": "stream",
     "text": [
      "[0 1 2 3 4 5 6 7 8 9]\n",
      "[666 666 666 666 666   5   6   7   8   9]\n"
     ]
    }
   ],
   "source": [
    "import numpy as np\n",
    "\n",
    "a = np.arange(10)\n",
    "print(a)\n",
    "a[a < 5] = 666\n",
    "print(a)"
   ]
  },
  {
   "cell_type": "code",
   "execution_count": 37,
   "id": "05235e4b",
   "metadata": {},
   "outputs": [
    {
     "name": "stdout",
     "output_type": "stream",
     "text": [
      "[ 0  1  2  3  4  5  6  7  8  9 10 11 12 13 14 15 16 17 18 19]\n",
      "[  0   1   2   3   4   5 666 666 666 666  10  11  12  13  14  15  16  17\n",
      "  18  19]\n"
     ]
    }
   ],
   "source": [
    "import numpy as np\n",
    "\n",
    "a = np.arange(20)\n",
    "print(a)\n",
    "a[(a > 5) & (a < 10)] = 666\n",
    "print(a)"
   ]
  },
  {
   "cell_type": "code",
   "execution_count": 38,
   "id": "7113c157",
   "metadata": {},
   "outputs": [
    {
     "name": "stdout",
     "output_type": "stream",
     "text": [
      "[ 0  1  2  3  4  5  6  7  8  9 10 11 12 13 14 15 16 17 18 19]\n",
      "[666 666 666 666 666 666 666 666 666 666 666 666 666 666 666 666 666 666\n",
      " 666 666]\n"
     ]
    }
   ],
   "source": [
    "import numpy as np\n",
    "\n",
    "a = np.arange(20)\n",
    "print(a)\n",
    "a[(a > 5) | (a < 10)] = 666\n",
    "print(a)"
   ]
  },
  {
   "cell_type": "code",
   "execution_count": 39,
   "id": "9d63637c",
   "metadata": {},
   "outputs": [
    {
     "name": "stdout",
     "output_type": "stream",
     "text": [
      "[-5.  -2.5  0.   2.5  5. ]\n",
      "At leat one element is positive.\n",
      "Not all elements are positive.\n"
     ]
    }
   ],
   "source": [
    "import numpy as np\n",
    "\n",
    "v = np.linspace(-5, 5, 5)\n",
    "print(v)\n",
    "\n",
    "if (v > 0).any():\n",
    "    print(\"At leat one element is positive.\")\n",
    "else:\n",
    "    print(\"No element is positive.\") \n",
    "\n",
    "if (v > 0).all():\n",
    "    print(\"All elements are postive.\")\n",
    "else:\n",
    "    print(\"Not all elements are positive.\") "
   ]
  },
  {
   "cell_type": "code",
   "execution_count": 40,
   "id": "c6ef4fb4",
   "metadata": {},
   "outputs": [
    {
     "name": "stdout",
     "output_type": "stream",
     "text": [
      "1\n",
      "2\n",
      "3\n",
      "4\n"
     ]
    }
   ],
   "source": [
    "import numpy as np \n",
    "\n",
    "v = np.array([1, 2, 3, 4])\n",
    "for x in v:\n",
    "    print(x)"
   ]
  },
  {
   "cell_type": "code",
   "execution_count": 41,
   "id": "bc3bfe0f",
   "metadata": {},
   "outputs": [
    {
     "name": "stdout",
     "output_type": "stream",
     "text": [
      "1\n",
      "2\n",
      "3\n",
      "4\n",
      "5\n",
      "6\n",
      "7\n",
      "8\n"
     ]
    }
   ],
   "source": [
    "import numpy as np \n",
    "\n",
    "M = np.array([[1, 2, 3, 4], [5, 6, 7, 8]])\n",
    "for x in M:\n",
    "    for y in x:\n",
    "        print(y)"
   ]
  },
  {
   "cell_type": "code",
   "execution_count": 42,
   "id": "b0e96ea2",
   "metadata": {},
   "outputs": [
    {
     "ename": "ValueError",
     "evalue": "The truth value of an array with more than one element is ambiguous. Use a.any() or a.all()",
     "output_type": "error",
     "traceback": [
      "\u001b[1;31m---------------------------------------------------------------------------\u001b[0m",
      "\u001b[1;31mValueError\u001b[0m                                Traceback (most recent call last)",
      "\u001b[1;32m~\\AppData\\Local\\Temp/ipykernel_12932/3230324924.py\u001b[0m in \u001b[0;36m<module>\u001b[1;34m\u001b[0m\n\u001b[0;32m      7\u001b[0m         \u001b[1;32mreturn\u001b[0m \u001b[1;32mFalse\u001b[0m\u001b[1;33m\u001b[0m\u001b[1;33m\u001b[0m\u001b[0m\n\u001b[0;32m      8\u001b[0m \u001b[0mv\u001b[0m \u001b[1;33m=\u001b[0m \u001b[0mnp\u001b[0m\u001b[1;33m.\u001b[0m\u001b[0mlinspace\u001b[0m\u001b[1;33m(\u001b[0m\u001b[1;33m-\u001b[0m\u001b[1;36m5\u001b[0m\u001b[1;33m,\u001b[0m \u001b[1;36m5\u001b[0m\u001b[1;33m,\u001b[0m \u001b[1;36m5\u001b[0m\u001b[1;33m)\u001b[0m\u001b[1;33m\u001b[0m\u001b[1;33m\u001b[0m\u001b[0m\n\u001b[1;32m----> 9\u001b[1;33m \u001b[0mprint\u001b[0m\u001b[1;33m(\u001b[0m\u001b[0mis_negative\u001b[0m\u001b[1;33m(\u001b[0m\u001b[0mv\u001b[0m\u001b[1;33m)\u001b[0m\u001b[1;33m)\u001b[0m \u001b[1;31m# this will throw an error\u001b[0m\u001b[1;33m\u001b[0m\u001b[1;33m\u001b[0m\u001b[0m\n\u001b[0m",
      "\u001b[1;32m~\\AppData\\Local\\Temp/ipykernel_12932/3230324924.py\u001b[0m in \u001b[0;36mis_negative\u001b[1;34m(x)\u001b[0m\n\u001b[0;32m      2\u001b[0m \u001b[1;33m\u001b[0m\u001b[0m\n\u001b[0;32m      3\u001b[0m \u001b[1;32mdef\u001b[0m \u001b[0mis_negative\u001b[0m\u001b[1;33m(\u001b[0m\u001b[0mx\u001b[0m\u001b[1;33m)\u001b[0m\u001b[1;33m:\u001b[0m\u001b[1;33m\u001b[0m\u001b[1;33m\u001b[0m\u001b[0m\n\u001b[1;32m----> 4\u001b[1;33m     \u001b[1;32mif\u001b[0m \u001b[0mx\u001b[0m \u001b[1;33m<\u001b[0m \u001b[1;36m0\u001b[0m\u001b[1;33m:\u001b[0m\u001b[1;33m\u001b[0m\u001b[1;33m\u001b[0m\u001b[0m\n\u001b[0m\u001b[0;32m      5\u001b[0m         \u001b[1;32mreturn\u001b[0m \u001b[1;32mTrue\u001b[0m\u001b[1;33m\u001b[0m\u001b[1;33m\u001b[0m\u001b[0m\n\u001b[0;32m      6\u001b[0m     \u001b[1;32melse\u001b[0m\u001b[1;33m:\u001b[0m\u001b[1;33m\u001b[0m\u001b[1;33m\u001b[0m\u001b[0m\n",
      "\u001b[1;31mValueError\u001b[0m: The truth value of an array with more than one element is ambiguous. Use a.any() or a.all()"
     ]
    }
   ],
   "source": [
    "import numpy as np\n",
    "\n",
    "def is_negative(x):\n",
    "    if x < 0:\n",
    "        return True\n",
    "    else:\n",
    "        return False\n",
    "v = np.linspace(-5, 5, 5)\n",
    "print(is_negative(v)) \n",
    "#this will throw an error"
   ]
  },
  {
   "cell_type": "code",
   "execution_count": 43,
   "id": "b6bbcd9b",
   "metadata": {},
   "outputs": [
    {
     "name": "stdout",
     "output_type": "stream",
     "text": [
      "[-5.  -2.5  0.   2.5  5. ]\n",
      "[ True  True False False False]\n"
     ]
    }
   ],
   "source": [
    "import numpy as np\n",
    "\n",
    "def is_negative(x):\n",
    "    if x < 0:\n",
    "        return True\n",
    "    else:\n",
    "        return False\n",
    "\n",
    "vec_is_negative = np.vectorize(is_negative) #vectorizing the function isNegative \n",
    "v = np.linspace(-5, 5, 5)\n",
    "print(v)\n",
    "print(vec_is_negative(v))"
   ]
  },
  {
   "cell_type": "code",
   "execution_count": 44,
   "id": "bb581d37",
   "metadata": {},
   "outputs": [
    {
     "name": "stdout",
     "output_type": "stream",
     "text": [
      "a = [0 1 2 3 4 5]\n",
      "b = [0 1 2 3 4 5]\n",
      "After replacing value in b\n",
      "a = [  0   1   2 666   4   5]\n",
      "b = [  0   1   2 666   4   5]\n"
     ]
    }
   ],
   "source": [
    "import numpy as np\n",
    "\n",
    "a = np.arange(6)\n",
    "print(\"a =\", a)\n",
    "b = a           # a is passed by reference and b is referring to same data as a\n",
    "print(\"b =\", b)\n",
    "b[3] = 666      # changing in b will also change the value in a\n",
    "\n",
    "print(\"After replacing value in b\")\n",
    "print(\"a =\", a) # value is replaced in a as well\n",
    "print(\"b =\", b)"
   ]
  },
  {
   "cell_type": "code",
   "execution_count": 45,
   "id": "ce288314",
   "metadata": {},
   "outputs": [
    {
     "name": "stdout",
     "output_type": "stream",
     "text": [
      "a = [0 1 2 3 4 5]\n",
      "b = [0 1 2 3 4 5]\n",
      "After replacing value in b\n",
      "a = [0 1 2 3 4 5]\n",
      "b = [  0   1   2 666   4   5]\n"
     ]
    }
   ],
   "source": [
    "import numpy as np\n",
    "\n",
    "a = np.arange(6)\n",
    "print(\"a =\", a)\n",
    "b = np.copy(a)       # a is copied in b\n",
    "print(\"b =\", b)\n",
    "b[3] = 666      # changing in b will not change a\n",
    "\n",
    "print(\"After replacing value in b\")\n",
    "print(\"a =\", a) \n",
    "print(\"b =\", b)"
   ]
  },
  {
   "cell_type": "code",
   "execution_count": 46,
   "id": "ea005c92",
   "metadata": {},
   "outputs": [
    {
     "name": "stdout",
     "output_type": "stream",
     "text": [
      "5\n"
     ]
    }
   ],
   "source": [
    "arr = np.array([[[0, 1],\n",
    "                 [2, 3]],\n",
    "                [[4, 5],\n",
    "                 [6, 7]]])\n",
    "\n",
    "print(arr[1][0][1])"
   ]
  },
  {
   "cell_type": "code",
   "execution_count": 47,
   "id": "3c0506b8",
   "metadata": {},
   "outputs": [],
   "source": [
    "arr = np.arange(1, 100)"
   ]
  },
  {
   "cell_type": "code",
   "execution_count": 48,
   "id": "b02aef08",
   "metadata": {},
   "outputs": [
    {
     "name": "stdout",
     "output_type": "stream",
     "text": [
      "[[  0   3   6]\n",
      " [-10  -7  -4]\n",
      " [-20 -17 -14]]\n"
     ]
    }
   ],
   "source": [
    "M = np.array([[ 0,  1,  2], [ 5,  6,  7], [10, 11, 12]])\n",
    "N = np.array([[ 0,  5, 10],[ 0, 5, 10], [ 0,  5, 10]])\n",
    "\n",
    "print(N - M * 2)"
   ]
  },
  {
   "cell_type": "code",
   "execution_count": 49,
   "id": "0e0568ca",
   "metadata": {},
   "outputs": [
    {
     "name": "stdout",
     "output_type": "stream",
     "text": [
      "12\n"
     ]
    }
   ],
   "source": [
    "arr = np.array([5, 10, 12, 4, 3, 2, 1, 6, 12, 9, 8])\n",
    "print(np.max(arr)) "
   ]
  },
  {
   "cell_type": "code",
   "execution_count": 50,
   "id": "21064a6d",
   "metadata": {},
   "outputs": [
    {
     "name": "stdout",
     "output_type": "stream",
     "text": [
      "[ 0  1  2  3 24 25  6  7  8  9]\n"
     ]
    }
   ],
   "source": [
    "x = np.arange(10)\n",
    "y = x\n",
    "y[4] = 24 \n",
    "x[5] = 25\n",
    "print(x)"
   ]
  },
  {
   "cell_type": "code",
   "execution_count": 51,
   "id": "ad3b957a",
   "metadata": {},
   "outputs": [
    {
     "name": "stdout",
     "output_type": "stream",
     "text": [
      "[[4 2 3 2]\n",
      " [2 4 3 1]\n",
      " [2 4 1 3]\n",
      " [4 1 2 3]]\n",
      "the first row of arr\n",
      "[4 2 3 2]\n",
      "the first column of arr\n",
      "[4 2 2 4]\n",
      "the third row of arr\n",
      "[2 4 1 3]\n",
      "the last two columns of arr\n",
      "[[3 2]\n",
      " [3 1]\n",
      " [1 3]\n",
      " [2 3]]\n",
      "the four values in the upper right hand corner\n",
      "[[3 2]\n",
      " [3 1]]\n",
      "the four values at the center of arr\n",
      "[[4 3]\n",
      " [4 1]]\n"
     ]
    }
   ],
   "source": [
    "import numpy as np\n",
    "\n",
    "arr = np.array([[4, 2, 3, 2], [2, 4, 3, 1], [2, 4, 1, 3], [4, 1, 2, 3]])\n",
    "print(arr)\n",
    "print('the first row of arr')\n",
    "print(arr[0])\n",
    "print('the first column of arr')\n",
    "print(arr[:, 0])\n",
    "print('the third row of arr')\n",
    "print(arr[2])\n",
    "print('the last two columns of arr')\n",
    "print(arr[:, -2:])\n",
    "print('the four values in the upper right hand corner')\n",
    "print(arr[:2, 2:])\n",
    "print('the four values at the center of arr')\n",
    "print(arr[1:3, 1:3])"
   ]
  },
  {
   "cell_type": "code",
   "execution_count": 52,
   "id": "2cafbab4",
   "metadata": {},
   "outputs": [
    {
     "name": "stdout",
     "output_type": "stream",
     "text": [
      "[ 0.83716648  0.96940027  0.99658449  0.91577333  0.73572391 -0.73572391\n",
      " -0.91577333 -0.99658449 -0.96940027 -0.83716648 -0.61421271]\n",
      "-----\n",
      "[ 0.00000000e+00  3.24699469e-01  6.14212713e-01  4.75947393e-01\n",
      "  1.64594590e-01 -1.64594590e-01 -4.75947393e-01 -3.24699469e-01\n",
      " -2.44929360e-16]\n"
     ]
    }
   ],
   "source": [
    "import numpy as np\n",
    "\n",
    "x = np.linspace(0, 2 * np.pi, 20)\n",
    "y = np.sin(x)\n",
    "\n",
    "arr1 = y[(y > 0.7) | (y < -0.5)]\n",
    "arr2 = y[(y > -0.5) & (y < 0.7)]\n",
    "\n",
    "print(arr1)\n",
    "print('-----')\n",
    "print(arr2)"
   ]
  },
  {
   "cell_type": "code",
   "execution_count": null,
   "id": "04f2e63a",
   "metadata": {},
   "outputs": [],
   "source": []
  }
 ],
 "metadata": {
  "kernelspec": {
   "display_name": "Python 3 (ipykernel)",
   "language": "python",
   "name": "python3"
  },
  "language_info": {
   "codemirror_mode": {
    "name": "ipython",
    "version": 3
   },
   "file_extension": ".py",
   "mimetype": "text/x-python",
   "name": "python",
   "nbconvert_exporter": "python",
   "pygments_lexer": "ipython3",
   "version": "3.8.8"
  }
 },
 "nbformat": 4,
 "nbformat_minor": 5
}
