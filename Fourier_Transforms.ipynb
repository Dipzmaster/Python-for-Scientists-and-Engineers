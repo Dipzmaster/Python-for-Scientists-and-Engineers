{
 "cells": [
  {
   "cell_type": "code",
   "execution_count": 1,
   "id": "e7077071",
   "metadata": {},
   "outputs": [],
   "source": [
    "#Implementation "
   ]
  },
  {
   "cell_type": "code",
   "execution_count": 3,
   "id": "5bdd3696",
   "metadata": {},
   "outputs": [
    {
     "name": "stderr",
     "output_type": "stream",
     "text": [
      "C:\\Users\\HP\\AppData\\Local\\Temp/ipykernel_11224/1530997826.py:12: DeprecationWarning: scipy.arange is deprecated and will be removed in SciPy 2.0.0, use numpy.arange instead\n",
      "  t = arange(0, sig_length, dt)\n",
      "C:\\Users\\HP\\AppData\\Local\\Temp/ipykernel_11224/1530997826.py:15: DeprecationWarning: scipy.arange is deprecated and will be removed in SciPy 2.0.0, use numpy.arange instead\n",
      "  freq = arange(0, sample_rate/2, df)\n",
      "C:\\Users\\HP\\AppData\\Local\\Temp/ipykernel_11224/1530997826.py:19: DeprecationWarning: scipy.sin is deprecated and will be removed in SciPy 2.0.0, use numpy.sin instead\n",
      "  y = 0.5 * sin(2 * pi * 40 * t) + sin(2 * pi * 60 * t + pi/2)\n"
     ]
    },
    {
     "ename": "TypeError",
     "evalue": "'module' object is not callable",
     "output_type": "error",
     "traceback": [
      "\u001b[1;31m---------------------------------------------------------------------------\u001b[0m",
      "\u001b[1;31mTypeError\u001b[0m                                 Traceback (most recent call last)",
      "\u001b[1;32m~\\AppData\\Local\\Temp/ipykernel_11224/1530997826.py\u001b[0m in \u001b[0;36m<module>\u001b[1;34m\u001b[0m\n\u001b[0;32m     19\u001b[0m \u001b[0my\u001b[0m \u001b[1;33m=\u001b[0m \u001b[1;36m0.5\u001b[0m \u001b[1;33m*\u001b[0m \u001b[0msin\u001b[0m\u001b[1;33m(\u001b[0m\u001b[1;36m2\u001b[0m \u001b[1;33m*\u001b[0m \u001b[0mpi\u001b[0m \u001b[1;33m*\u001b[0m \u001b[1;36m40\u001b[0m \u001b[1;33m*\u001b[0m \u001b[0mt\u001b[0m\u001b[1;33m)\u001b[0m \u001b[1;33m+\u001b[0m \u001b[0msin\u001b[0m\u001b[1;33m(\u001b[0m\u001b[1;36m2\u001b[0m \u001b[1;33m*\u001b[0m \u001b[0mpi\u001b[0m \u001b[1;33m*\u001b[0m \u001b[1;36m60\u001b[0m \u001b[1;33m*\u001b[0m \u001b[0mt\u001b[0m \u001b[1;33m+\u001b[0m \u001b[0mpi\u001b[0m\u001b[1;33m/\u001b[0m\u001b[1;36m2\u001b[0m\u001b[1;33m)\u001b[0m\u001b[1;33m\u001b[0m\u001b[1;33m\u001b[0m\u001b[0m\n\u001b[0;32m     20\u001b[0m \u001b[1;33m\u001b[0m\u001b[0m\n\u001b[1;32m---> 21\u001b[1;33m \u001b[0mf\u001b[0m \u001b[1;33m=\u001b[0m \u001b[0mfft\u001b[0m\u001b[1;33m(\u001b[0m\u001b[0my\u001b[0m\u001b[1;33m)\u001b[0m      \u001b[1;31m# computing fourier transform\u001b[0m\u001b[1;33m\u001b[0m\u001b[1;33m\u001b[0m\u001b[0m\n\u001b[0m\u001b[0;32m     22\u001b[0m \u001b[1;31m# plotting signal\u001b[0m\u001b[1;33m\u001b[0m\u001b[1;33m\u001b[0m\u001b[1;33m\u001b[0m\u001b[0m\n\u001b[0;32m     23\u001b[0m \u001b[0mfig\u001b[0m\u001b[1;33m,\u001b[0m \u001b[0max\u001b[0m \u001b[1;33m=\u001b[0m \u001b[0mplt\u001b[0m\u001b[1;33m.\u001b[0m\u001b[0msubplots\u001b[0m\u001b[1;33m(\u001b[0m\u001b[1;36m2\u001b[0m\u001b[1;33m,\u001b[0m \u001b[1;36m1\u001b[0m\u001b[1;33m)\u001b[0m\u001b[1;33m\u001b[0m\u001b[1;33m\u001b[0m\u001b[0m\n",
      "\u001b[1;31mTypeError\u001b[0m: 'module' object is not callable"
     ]
    }
   ],
   "source": [
    "from scipy import *\n",
    "from scipy import fftpack\n",
    "import matplotlib.pyplot as plt\n",
    "\n",
    "sig_length = 0.5  # signal length seconds\n",
    "sample_rate = 500  # sampling rate in Hz\n",
    "\n",
    "dt = 1 / sample_rate   # time between samples in [s]\n",
    "df = 1 / sig_length   # frequency between frequency points in [Hz]\n",
    "\n",
    "# array for time\n",
    "t = arange(0, sig_length, dt)\n",
    "\n",
    "# only considering the positive frequencies\n",
    "freq = arange(0, sample_rate/2, df)     \n",
    "n = len(freq)   # length of frequency array \n",
    "\n",
    "# generating signal\n",
    "y = 0.5 * sin(2 * pi * 40 * t) + sin(2 * pi * 60 * t + pi/2)\n",
    "\n",
    "f = fft(y)      # computing fourier transform\n",
    "# plotting signal\n",
    "fig, ax = plt.subplots(2, 1) \n",
    "ax[0].plot(t, y) \n",
    "ax[0].set_title('time domain') \n",
    "ax[0].set_xlabel('time(s)') \n",
    "\n",
    "# plotting fourier transform\n",
    "ax[1].plot(freq, abs(f[0:n]))\n",
    "ax[1].set_title('FFT') \n",
    "ax[1].set_xlabel('frequency(Hz)') \n",
    "ax[1].set_ylabel('abs(DFT)') \n",
    "\n",
    "fig.tight_layout()"
   ]
  },
  {
   "cell_type": "code",
   "execution_count": 4,
   "id": "f9ed37ab",
   "metadata": {},
   "outputs": [],
   "source": [
    "#Triple Integral Over a Bounded Region"
   ]
  },
  {
   "cell_type": "code",
   "execution_count": 5,
   "id": "c0d4fffb",
   "metadata": {},
   "outputs": [
    {
     "name": "stdout",
     "output_type": "stream",
     "text": [
      "Value of integral: 0.08333333333333331\n",
      "Error in integral: 1.3829611892551744e-14\n"
     ]
    }
   ],
   "source": [
    "from scipy import *\n",
    "from scipy.integrate import tplquad\n",
    "\n",
    "def f(z, y, x):\n",
    "    return ((5 * x) - (3 * y))   \n",
    " \n",
    "# call tplquad to integrate the function f \n",
    "# x goes from 0 to 1\n",
    "# y goes from 0 to 1-x\n",
    "# z goes from 0 to 1-x-y\n",
    "\n",
    "val, err = tplquad(f, 0, 1, lambda x: 0, lambda x: 1 - x, lambda y, x: 0, lambda y, x: 1 - x - y)\n",
    "\n",
    "print(\"Value of integral:\", val)\n",
    "print(\"Error in integral:\", err)"
   ]
  },
  {
   "cell_type": "code",
   "execution_count": 6,
   "id": "0db00cb4",
   "metadata": {},
   "outputs": [],
   "source": [
    "#Parameters of an FID Signal"
   ]
  },
  {
   "cell_type": "code",
   "execution_count": 7,
   "id": "7b2c502a",
   "metadata": {},
   "outputs": [
    {
     "ename": "NameError",
     "evalue": "name 'time' is not defined",
     "output_type": "error",
     "traceback": [
      "\u001b[1;31m---------------------------------------------------------------------------\u001b[0m",
      "\u001b[1;31mNameError\u001b[0m                                 Traceback (most recent call last)",
      "\u001b[1;32m~\\AppData\\Local\\Temp/ipykernel_11224/2194965432.py\u001b[0m in \u001b[0;36m<module>\u001b[1;34m\u001b[0m\n\u001b[0;32m      9\u001b[0m     \u001b[1;32mreturn\u001b[0m \u001b[0mnp\u001b[0m\u001b[1;33m.\u001b[0m\u001b[0msin\u001b[0m\u001b[1;33m(\u001b[0m\u001b[1;36m2\u001b[0m \u001b[1;33m*\u001b[0m \u001b[0mfreq\u001b[0m \u001b[1;33m*\u001b[0m \u001b[0mnp\u001b[0m\u001b[1;33m.\u001b[0m\u001b[0mpi\u001b[0m \u001b[1;33m*\u001b[0m \u001b[0mx\u001b[0m\u001b[1;33m)\u001b[0m \u001b[1;33m*\u001b[0m \u001b[0mnp\u001b[0m\u001b[1;33m.\u001b[0m\u001b[0mexp\u001b[0m\u001b[1;33m(\u001b[0m\u001b[1;33m-\u001b[0m\u001b[0malpha\u001b[0m \u001b[1;33m*\u001b[0m \u001b[0mx\u001b[0m\u001b[1;33m)\u001b[0m\u001b[1;33m\u001b[0m\u001b[1;33m\u001b[0m\u001b[0m\n\u001b[0;32m     10\u001b[0m \u001b[1;33m\u001b[0m\u001b[0m\n\u001b[1;32m---> 11\u001b[1;33m \u001b[0mpopt\u001b[0m\u001b[1;33m,\u001b[0m \u001b[0mpcov\u001b[0m \u001b[1;33m=\u001b[0m \u001b[0mcurve_fit\u001b[0m\u001b[1;33m(\u001b[0m\u001b[0mfunc\u001b[0m\u001b[1;33m,\u001b[0m \u001b[0mtime\u001b[0m\u001b[1;33m,\u001b[0m \u001b[0mdata\u001b[0m\u001b[1;33m,\u001b[0m \u001b[0mp0\u001b[0m\u001b[1;33m=\u001b[0m\u001b[1;33m(\u001b[0m\u001b[1;36m500\u001b[0m\u001b[1;33m,\u001b[0m \u001b[1;36m50\u001b[0m\u001b[1;33m)\u001b[0m\u001b[1;33m)\u001b[0m \u001b[1;31m# p0 are initial estimates\u001b[0m\u001b[1;33m\u001b[0m\u001b[1;33m\u001b[0m\u001b[0m\n\u001b[0m\u001b[0;32m     12\u001b[0m \u001b[0mprint\u001b[0m\u001b[1;33m(\u001b[0m\u001b[1;34m\"freq = \"\u001b[0m\u001b[1;33m,\u001b[0m \u001b[0mpopt\u001b[0m\u001b[1;33m[\u001b[0m\u001b[1;36m0\u001b[0m\u001b[1;33m]\u001b[0m\u001b[1;33m,\u001b[0m \u001b[1;34m\"alpha = \"\u001b[0m\u001b[1;33m,\u001b[0m \u001b[0mpopt\u001b[0m\u001b[1;33m[\u001b[0m\u001b[1;36m1\u001b[0m\u001b[1;33m]\u001b[0m\u001b[1;33m)\u001b[0m\u001b[1;33m\u001b[0m\u001b[1;33m\u001b[0m\u001b[0m\n\u001b[0;32m     13\u001b[0m \u001b[0myfit\u001b[0m \u001b[1;33m=\u001b[0m \u001b[0mfunc\u001b[0m\u001b[1;33m(\u001b[0m\u001b[0mtime\u001b[0m\u001b[1;33m,\u001b[0m \u001b[1;33m*\u001b[0m\u001b[0mpopt\u001b[0m\u001b[1;33m)\u001b[0m \u001b[1;31m# equivalent to popt[0], popt[1]\u001b[0m\u001b[1;33m\u001b[0m\u001b[1;33m\u001b[0m\u001b[0m\n",
      "\u001b[1;31mNameError\u001b[0m: name 'time' is not defined"
     ]
    }
   ],
   "source": [
    "from scipy.optimize import curve_fit\n",
    "import matplotlib.pyplot as plt\n",
    "\n",
    "def RMSE(y1, y2):\n",
    "    return np.mean((np.square(np.subtract(y1, y2))))\n",
    "\n",
    "# function for FID signal\n",
    "def func(x, freq, alpha):\n",
    "    return np.sin(2 * freq * np.pi * x) * np.exp(-alpha * x)\n",
    "\n",
    "popt, pcov = curve_fit(func, time, data, p0=(500, 50)) # p0 are initial estimates\n",
    "print(\"freq = \", popt[0], \"alpha = \", popt[1])\n",
    "yfit = func(time, *popt) # equivalent to popt[0], popt[1] \n",
    "\n",
    "# figure and axes settings\n",
    "fig = plt.figure(figsize=(16 , 16))\n",
    "axes = fig.add_axes([0.1, 0.3, 0.8, 0.4])\n",
    "axes.set_xlabel('time', fontsize='20')\n",
    "axes.set_ylabel('signal', fontsize='20')\n",
    "axes.tick_params(axis=\"both\", labelsize=18)\n",
    "axes.set_xlim(0, max(time))\n",
    "axes.set_ylim(-1, 1)\n",
    "\n",
    "# plotting raw data\n",
    "axes.plot(time, data, '.', color='b', label='observed')\n",
    "\n",
    "# plotting fitted data\n",
    "axes.plot(time, yfit, 'r', label='fit')\n",
    "\n",
    "# plotting decay curves\n",
    "axes.plot(time, np.exp(-1 * popt[1] * time), 'g', linestyle='--', linewidth=3, label='decay curve')\n",
    "axes.plot(time, -1 * np.exp(-1 * popt[1] * time), 'g', linestyle='--', linewidth=2)\n",
    "\n",
    "# setting legend\n",
    "axes.legend(loc=0, fontsize='xx-large')\n",
    "\n",
    "# print RMSE\n",
    "print('RMSE =', RMSE(data, yfit))"
   ]
  },
  {
   "cell_type": "code",
   "execution_count": null,
   "id": "ce694dd3",
   "metadata": {},
   "outputs": [],
   "source": []
  }
 ],
 "metadata": {
  "kernelspec": {
   "display_name": "Python 3 (ipykernel)",
   "language": "python",
   "name": "python3"
  },
  "language_info": {
   "codemirror_mode": {
    "name": "ipython",
    "version": 3
   },
   "file_extension": ".py",
   "mimetype": "text/x-python",
   "name": "python",
   "nbconvert_exporter": "python",
   "pygments_lexer": "ipython3",
   "version": "3.8.8"
  }
 },
 "nbformat": 4,
 "nbformat_minor": 5
}
