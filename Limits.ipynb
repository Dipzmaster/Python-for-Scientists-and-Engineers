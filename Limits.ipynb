{
 "cells": [
  {
   "cell_type": "code",
   "execution_count": 1,
   "id": "f9d1fdce",
   "metadata": {},
   "outputs": [
    {
     "name": "stdout",
     "output_type": "stream",
     "text": [
      "1\n"
     ]
    }
   ],
   "source": [
    "from sympy import *\n",
    "\n",
    "def f(x):\n",
    "    return sin(x) / x\n",
    "\n",
    "x = Symbol('x')\n",
    "print(limit(f(x), x, 0))"
   ]
  },
  {
   "cell_type": "code",
   "execution_count": 2,
   "id": "cb39c0c8",
   "metadata": {},
   "outputs": [
    {
     "name": "stdout",
     "output_type": "stream",
     "text": [
      "E\n"
     ]
    }
   ],
   "source": [
    "from sympy import *\n",
    "\n",
    "def f(x):\n",
    "    return ((2 * exp((1 - cos(x)) / sin(x)) - 1)**(sinh(x) / atan(x)**2))\n",
    "\n",
    "x = Symbol('x')\n",
    "print(limit(f(x), x, 0))"
   ]
  },
  {
   "cell_type": "code",
   "execution_count": 3,
   "id": "4b4bd306",
   "metadata": {},
   "outputs": [],
   "source": [
    "#The direction of a limit"
   ]
  },
  {
   "cell_type": "code",
   "execution_count": 4,
   "id": "315593f6",
   "metadata": {},
   "outputs": [
    {
     "name": "stdout",
     "output_type": "stream",
     "text": [
      "Bi-directional for g(x): oo\n",
      "From right for f(x) oo\n",
      "From left for f(x) -oo\n"
     ]
    }
   ],
   "source": [
    "from sympy import *\n",
    "\n",
    "def f(x):\n",
    "    return 1 / x\n",
    "\n",
    "def g(x):\n",
    "    return 1 / x**2\n",
    "\n",
    "x = Symbol('x')\n",
    "\n",
    "print(\"Bi-directional for g(x):\", limit(g(x), x, 0, '+-'))\n",
    "print(\"From right for f(x)\", limit(f(x), x, 0, '+'))\n",
    "print(\"From left for f(x)\", limit(f(x), x, 0, '-'))"
   ]
  },
  {
   "cell_type": "code",
   "execution_count": null,
   "id": "cbe89217",
   "metadata": {},
   "outputs": [],
   "source": []
  }
 ],
 "metadata": {
  "kernelspec": {
   "display_name": "Python 3 (ipykernel)",
   "language": "python",
   "name": "python3"
  },
  "language_info": {
   "codemirror_mode": {
    "name": "ipython",
    "version": 3
   },
   "file_extension": ".py",
   "mimetype": "text/x-python",
   "name": "python",
   "nbconvert_exporter": "python",
   "pygments_lexer": "ipython3",
   "version": "3.8.8"
  }
 },
 "nbformat": 4,
 "nbformat_minor": 5
}
