{
 "cells": [
  {
   "cell_type": "code",
   "execution_count": 1,
   "id": "8f8b564b",
   "metadata": {},
   "outputs": [
    {
     "name": "stdout",
     "output_type": "stream",
     "text": [
      "[[2 3 1]\n",
      " [3 4 2]\n",
      " [1 1 1]]\n",
      "[17 25  6]\n"
     ]
    }
   ],
   "source": [
    "import numpy as np\n",
    "\n",
    "A = np.array([[2, 3, 1], [3, 4, 2], [1, 1, 1]]) # building a 2-D array\n",
    "b = np.array([17, 25, 6])   # building a 1-D array\n",
    "\n",
    "print(A)\n",
    "print(b)"
   ]
  },
  {
   "cell_type": "code",
   "execution_count": 2,
   "id": "c1420c0c",
   "metadata": {},
   "outputs": [
    {
     "name": "stdout",
     "output_type": "stream",
     "text": [
      "[5. 2. 1.]\n"
     ]
    }
   ],
   "source": [
    "import numpy as np\n",
    "\n",
    "A = np.array([[2, 3, 1], [3, 4, 2], [1, 1, -1]])\n",
    "b = np.array([17, 25, 6])\n",
    "\n",
    "x = np.linalg.solve(A, b)\n",
    "print(x)"
   ]
  },
  {
   "cell_type": "code",
   "execution_count": 3,
   "id": "21fcbec1",
   "metadata": {},
   "outputs": [
    {
     "name": "stdout",
     "output_type": "stream",
     "text": [
      "[17. 25.  6.]\n"
     ]
    }
   ],
   "source": [
    "import numpy as np\n",
    "\n",
    "A = np.array([[2, 3, 1], [3, 4, 2], [1, 1, -1]])\n",
    "b = np.array([17, 25, 6])\n",
    "\n",
    "x = np.linalg.solve(A, b)\n",
    "print(np.dot(A, x))"
   ]
  },
  {
   "cell_type": "markdown",
   "id": "5b1e509e",
   "metadata": {},
   "source": [
    "# Eigenvalues"
   ]
  },
  {
   "cell_type": "code",
   "execution_count": 4,
   "id": "9c164cd2",
   "metadata": {},
   "outputs": [
    {
     "name": "stdout",
     "output_type": "stream",
     "text": [
      "[13.96427447 -1.71352338 -0.2507511 ]\n"
     ]
    }
   ],
   "source": [
    "import numpy as np\n",
    "\n",
    "A = np.array([[1, 5, 8], [2, 2, 6], [2, 5, 9]])\n",
    "\n",
    "print(np.linalg.eigvals(A))"
   ]
  },
  {
   "cell_type": "markdown",
   "id": "6f5d0dfa",
   "metadata": {},
   "source": [
    "# Eigenvectors"
   ]
  },
  {
   "cell_type": "code",
   "execution_count": 5,
   "id": "ead9e3a5",
   "metadata": {},
   "outputs": [
    {
     "name": "stdout",
     "output_type": "stream",
     "text": [
      "Eigenvalues [1. 2. 9.]\n",
      "Eigenvectors [[1. 0. 0.]\n",
      " [0. 1. 0.]\n",
      " [0. 0. 1.]]\n"
     ]
    }
   ],
   "source": [
    "import numpy as np\n",
    "\n",
    "A = np.array([[1, 0, 0], [0, 2, 0], [0, 0, 9]])\n",
    "\n",
    "evals, evecs = np.linalg.eig(A)\n",
    "\n",
    "print(\"Eigenvalues\", evals)\n",
    "print(\"Eigenvectors\", evecs)"
   ]
  },
  {
   "cell_type": "markdown",
   "id": "3e1a5db4",
   "metadata": {},
   "source": [
    "# Hermitian matrices"
   ]
  },
  {
   "cell_type": "code",
   "execution_count": 6,
   "id": "0350507a",
   "metadata": {},
   "outputs": [
    {
     "name": "stdout",
     "output_type": "stream",
     "text": [
      "[[-1.+0.j  1.-2.j  0.+0.j]\n",
      " [ 1.+2.j  0.+0.j  0.-1.j]\n",
      " [ 0.+0.j  0.+1.j  1.+0.j]]\n",
      "Eigenvalues [-2.89510652  0.60270493  2.29240159]\n",
      "-----\n",
      "Eigenvectors [[-0.75257583+0.j         -0.45794385-0.j         -0.47319874+0.j        ]\n",
      " [ 0.28524227+0.57048455j -0.14678977-0.29357955j -0.31159205-0.62318411j]\n",
      " [ 0.14646186-0.07323093j -0.73894586+0.36947293j  0.48219076-0.24109538j]]\n"
     ]
    }
   ],
   "source": [
    "import numpy as np\n",
    "\n",
    "a = np.array([[-1, 1-2j, 0],[1+2j, 0, 0-1j],[0, 1j, 1]], dtype=complex) # Hermitian matrix\n",
    "evals, evecs = np.linalg.eigh(a)\n",
    "\n",
    "print(a)\n",
    "print(\"Eigenvalues\", evals)\n",
    "print(\"-----\")\n",
    "print(\"Eigenvectors\", evecs)"
   ]
  },
  {
   "cell_type": "markdown",
   "id": "5d68b7d9",
   "metadata": {},
   "source": [
    "# Inverse"
   ]
  },
  {
   "cell_type": "code",
   "execution_count": 7,
   "id": "4d625f6c",
   "metadata": {},
   "outputs": [
    {
     "name": "stdout",
     "output_type": "stream",
     "text": [
      "[5. 2. 1.]\n"
     ]
    }
   ],
   "source": [
    "import numpy as np\n",
    "\n",
    "A = np.array([[2, 3, 1], [3, 4, 2], [1, 1, -1]])\n",
    "b = np.array([17, 25, 6])\n",
    "\n",
    "Ainv = np.linalg.inv(A)\n",
    "x =  np.dot(Ainv, b)\n",
    "\n",
    "print(x)"
   ]
  },
  {
   "cell_type": "markdown",
   "id": "c60a0349",
   "metadata": {},
   "source": [
    "# Determinant"
   ]
  },
  {
   "cell_type": "code",
   "execution_count": 8,
   "id": "cd7e6a20",
   "metadata": {},
   "outputs": [
    {
     "name": "stdout",
     "output_type": "stream",
     "text": [
      "2.0000000000000004\n"
     ]
    }
   ],
   "source": [
    "import numpy as np\n",
    "\n",
    "A = np.array([[2, 3, 1], [3, 4, 2], [1, 1, -1]])\n",
    "print(np.linalg.det(A))"
   ]
  },
  {
   "cell_type": "markdown",
   "id": "02ece72c",
   "metadata": {},
   "source": [
    "# Trace"
   ]
  },
  {
   "cell_type": "code",
   "execution_count": 9,
   "id": "178f74ee",
   "metadata": {},
   "outputs": [
    {
     "name": "stdout",
     "output_type": "stream",
     "text": [
      "5\n"
     ]
    }
   ],
   "source": [
    "import numpy as np\n",
    "\n",
    "A = np.array([[2, 3, 1], [3, 4, 2], [1, 1, -1]])\n",
    "print(np.trace(A))"
   ]
  },
  {
   "cell_type": "markdown",
   "id": "7c5778d7",
   "metadata": {},
   "source": [
    "# Transpose"
   ]
  },
  {
   "cell_type": "code",
   "execution_count": 10,
   "id": "44bd8cbd",
   "metadata": {},
   "outputs": [
    {
     "name": "stdout",
     "output_type": "stream",
     "text": [
      "[[  2   3   5]\n",
      " [  4  98   2]\n",
      " [ 11  12 -13]]\n",
      "After Transpose\n",
      "[[  2   4  11]\n",
      " [  3  98  12]\n",
      " [  5   2 -13]]\n"
     ]
    }
   ],
   "source": [
    "import numpy as np\n",
    "\n",
    "A = np.array([[2, 3, 5], [4, 98, 2], [11, 12, -13]])\n",
    "print(A)\n",
    "print(\"After Transpose\")\n",
    "print(np.transpose(A))"
   ]
  },
  {
   "cell_type": "markdown",
   "id": "845219a2",
   "metadata": {},
   "source": [
    "# Euclidean norm"
   ]
  },
  {
   "cell_type": "code",
   "execution_count": 12,
   "id": "4e474459",
   "metadata": {},
   "outputs": [
    {
     "name": "stdout",
     "output_type": "stream",
     "text": [
      "Norm of v is 5.0\n",
      "Norm of M is 100.47885349664377\n"
     ]
    }
   ],
   "source": [
    "import numpy as np\n",
    "\n",
    "v = np.array([0, 3, 4])\n",
    "M = np.array([[2, 3, 5], [4, 98, 2], [11, 12, -13]])\n",
    "\n",
    "print(\"Norm of v is\", np.linalg.norm(v))\n",
    "print(\"Norm of M is\", np.linalg.norm(M))"
   ]
  },
  {
   "cell_type": "markdown",
   "id": "af4f83e4",
   "metadata": {},
   "source": [
    "# Sparse matrices in Python"
   ]
  },
  {
   "cell_type": "code",
   "execution_count": 13,
   "id": "ee82ee55",
   "metadata": {},
   "outputs": [
    {
     "name": "stdout",
     "output_type": "stream",
     "text": [
      "[[2 3 0 0]\n",
      " [1 2 3 0]\n",
      " [0 1 2 3]\n",
      " [0 0 1 2]]\n",
      "Compressed Sparse Column\n",
      "  (0, 0)\t2\n",
      "  (1, 0)\t1\n",
      "  (0, 1)\t3\n",
      "  (1, 1)\t2\n",
      "  (2, 1)\t1\n",
      "  (1, 2)\t3\n",
      "  (2, 2)\t2\n",
      "  (3, 2)\t1\n",
      "  (2, 3)\t3\n",
      "  (3, 3)\t2\n"
     ]
    }
   ],
   "source": [
    "import scipy.sparse as sp\n",
    "import numpy as np\n",
    "\n",
    "M = np.array([[2, 3, 0, 0], [1, 2, 3, 0], [0, 1, 2, 3], [0, 0, 1, 2]])\n",
    "print(M)\n",
    "\n",
    "sparse_column = sp.csc_matrix(M) \n",
    "print(\"Compressed Sparse Column\")\n",
    "print(sparse_column)"
   ]
  },
  {
   "cell_type": "code",
   "execution_count": 14,
   "id": "7815427f",
   "metadata": {},
   "outputs": [
    {
     "name": "stdout",
     "output_type": "stream",
     "text": [
      "[[2 3 0 0]\n",
      " [1 2 3 0]\n",
      " [0 1 2 3]\n",
      " [0 0 1 2]]\n",
      "Compressed Sparse Row\n",
      "  (0, 0)\t2\n",
      "  (0, 1)\t3\n",
      "  (1, 0)\t1\n",
      "  (1, 1)\t2\n",
      "  (1, 2)\t3\n",
      "  (2, 1)\t1\n",
      "  (2, 2)\t2\n",
      "  (2, 3)\t3\n",
      "  (3, 2)\t1\n",
      "  (3, 3)\t2\n"
     ]
    }
   ],
   "source": [
    "import scipy.sparse as sp\n",
    "import numpy as np\n",
    "\n",
    "M = np.array([[2, 3, 0, 0], [1, 2, 3, 0], [0, 1, 2, 3], [0, 0, 1, 2]])\n",
    "print(M)\n",
    "\n",
    "sparse_row = sp.csr_matrix(M) \n",
    "print(\"Compressed Sparse Row\")\n",
    "print(sparse_row)"
   ]
  },
  {
   "cell_type": "markdown",
   "id": "13b4c1d1",
   "metadata": {},
   "source": [
    "# Sparse to dense"
   ]
  },
  {
   "cell_type": "code",
   "execution_count": 15,
   "id": "d4348a41",
   "metadata": {},
   "outputs": [
    {
     "name": "stdout",
     "output_type": "stream",
     "text": [
      "[[2 3 0 0]\n",
      " [1 2 3 0]\n",
      " [0 1 2 3]\n",
      " [0 0 1 2]]\n",
      "Compressed Sparse Row\n",
      "  (0, 0)\t2\n",
      "  (0, 1)\t3\n",
      "  (1, 0)\t1\n",
      "  (1, 1)\t2\n",
      "  (1, 2)\t3\n",
      "  (2, 1)\t1\n",
      "  (2, 2)\t2\n",
      "  (2, 3)\t3\n",
      "  (3, 2)\t1\n",
      "  (3, 3)\t2\n",
      "Dense Matrix\n",
      "[[2 3 0 0]\n",
      " [1 2 3 0]\n",
      " [0 1 2 3]\n",
      " [0 0 1 2]]\n"
     ]
    }
   ],
   "source": [
    "import scipy.sparse as sp\n",
    "import numpy as np\n",
    "\n",
    "M = np.array([[2, 3, 0, 0], [1, 2, 3, 0], [0, 1, 2, 3], [0, 0, 1, 2]])\n",
    "print(M)\n",
    "\n",
    "sparse_row = sp.csr_matrix(M) \n",
    "print(\"Compressed Sparse Row\")\n",
    "print(sparse_row)\n",
    "print(\"Dense Matrix\")\n",
    "print(sparse_row.todense())"
   ]
  },
  {
   "cell_type": "markdown",
   "id": "2f20674d",
   "metadata": {},
   "source": [
    "# Solving equations with sparse matrices"
   ]
  },
  {
   "cell_type": "code",
   "execution_count": 16,
   "id": "7e44559c",
   "metadata": {},
   "outputs": [
    {
     "name": "stdout",
     "output_type": "stream",
     "text": [
      "[[ 2  3  1]\n",
      " [ 3  4  2]\n",
      " [ 1  1 -1]]\n",
      "  (0, 0)\t2\n",
      "  (1, 0)\t3\n",
      "  (2, 0)\t1\n",
      "  (0, 1)\t3\n",
      "  (1, 1)\t4\n",
      "  (2, 1)\t1\n",
      "  (0, 2)\t1\n",
      "  (1, 2)\t2\n",
      "  (2, 2)\t-1\n",
      "[17 25  6]\n",
      "[5. 2. 1.]\n",
      "[17. 25.  6.]\n"
     ]
    }
   ],
   "source": [
    "import numpy as np\n",
    "import scipy.sparse as sp\n",
    "from scipy.sparse.linalg import spsolve \n",
    "\n",
    "M = np.array([[2, 3, 1], [3, 4, 2], [1, 1, -1]])\n",
    "print(M)\n",
    "A = sp.csc_matrix(M)    # conversion to sparse matrix\n",
    "print(A)\n",
    "\n",
    "b = np.array([17, 25, 6])\n",
    "print(b)\n",
    "\n",
    "x = spsolve(A, b)       # solving the system of linear equation\n",
    "print(x)\n",
    "\n",
    "print(A * x)        # checking the solution"
   ]
  },
  {
   "cell_type": "code",
   "execution_count": 17,
   "id": "4c38d0f0",
   "metadata": {},
   "outputs": [
    {
     "name": "stdout",
     "output_type": "stream",
     "text": [
      "[[2 7 3]\n",
      " [7 9 4]\n",
      " [3 4 7]]\n"
     ]
    }
   ],
   "source": [
    "A = np.array([[2, 7, 3], [7, 9, 4], [3, 4, 7]])\n",
    "print(np.transpose(A))"
   ]
  },
  {
   "cell_type": "code",
   "execution_count": 18,
   "id": "eccd088f",
   "metadata": {},
   "outputs": [
    {
     "name": "stdout",
     "output_type": "stream",
     "text": [
      "  (1, 0)\t1\n",
      "  (2, 0)\t1\n",
      "  (0, 1)\t1\n",
      "  (1, 1)\t1\n",
      "  (2, 1)\t1\n",
      "  (0, 2)\t1\n",
      "  (2, 2)\t1\n",
      "  (3, 2)\t1\n",
      "  (0, 3)\t1\n",
      "  (3, 3)\t1\n"
     ]
    }
   ],
   "source": [
    "import numpy as np\n",
    "import scipy.sparse as sp\n",
    "\n",
    "M = np.array([[0, 1, 1, 1], [1, 1, 0, 0], [1, 1, 1, 0], [0, 0, 1, 1]])\n",
    "print(sp.csc_matrix(M)) "
   ]
  },
  {
   "cell_type": "markdown",
   "id": "aac6091e",
   "metadata": {},
   "source": [
    "# Fitting a Wave"
   ]
  },
  {
   "cell_type": "code",
   "execution_count": 19,
   "id": "4c7bf047",
   "metadata": {},
   "outputs": [
    {
     "name": "stdout",
     "output_type": "stream",
     "text": [
      "a, b, c, d:  [ 1.  3. -1. -2.]\n"
     ]
    },
    {
     "data": {
      "image/png": "[encoded data removed]",
      "text/plain": [
       "<Figure size 432x288 with 1 Axes>"
      ]
     },
     "metadata": {
      "needs_background": "light"
     },
     "output_type": "display_data"
    }
   ],
   "source": [
    "import numpy as np\n",
    "import matplotlib.pyplot as plt\n",
    "\n",
    "# setting up the equation\n",
    "tp = np.array([0.25, 0.5, 0.75, 1])\n",
    "yp = np.array([3, 2, -3, 0])\n",
    "A = np.zeros((4, 4))\n",
    "rhs = np.zeros(4)\n",
    "for i in range(4):\n",
    "    A[i] = np.sin(1 * np.pi * tp[i]), np.sin(2 * np.pi * tp[i]), \\\n",
    "      np.sin(3 * np.pi * tp[i]), np.sin(4 * np.pi * tp[i])  # Store one row at a time\n",
    "    rhs[i] = yp[i]\n",
    "\n",
    "# Solving the equation\n",
    "sol = np.linalg.solve(A, rhs)\n",
    "print('a, b, c, d: ', sol)\n",
    "\n",
    "# plotting the wave\n",
    "t = np.linspace(0, 1, 100)\n",
    "y = sol[0] * np.sin(1 * np.pi * t) + sol[1] * np.sin(2 * np.pi * t) + \\\n",
    "    sol[2] * np.sin(3 * np.pi * t) + sol[3] * np.sin(4 * np.pi * t)\n",
    "plt.plot(t, y, 'b', label='wave')\n",
    "plt.xlabel('t')\n",
    "plt.ylabel('y')\n",
    "\n",
    "# plotting the initial points\n",
    "plt.plot(tp, yp, 'ro', label='data')\n",
    "plt.legend(loc='best');\n"
   ]
  },
  {
   "cell_type": "code",
   "execution_count": null,
   "id": "c0ac9be9",
   "metadata": {},
   "outputs": [],
   "source": []
  }
 ],
 "metadata": {
  "kernelspec": {
   "display_name": "Python 3 (ipykernel)",
   "language": "python",
   "name": "python3"
  },
  "language_info": {
   "codemirror_mode": {
    "name": "ipython",
    "version": 3
   },
   "file_extension": ".py",
   "mimetype": "text/x-python",
   "name": "python",
   "nbconvert_exporter": "python",
   "pygments_lexer": "ipython3",
   "version": "3.8.8"
  }
 },
 "nbformat": 4,
 "nbformat_minor": 5
}
